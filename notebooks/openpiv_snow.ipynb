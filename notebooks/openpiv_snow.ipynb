{
 "cells": [
  {
   "cell_type": "code",
   "execution_count": null,
   "id": "f14ead03-c721-4f4e-9e44-84af95c0cd44",
   "metadata": {
    "papermill": {
     "duration": null,
     "end_time": null,
     "exception": null,
     "start_time": null,
     "status": "completed"
    },
    "tags": []
   },
   "outputs": [],
   "source": [
    "from pytube import YouTube\n",
    "\n",
    "\n",
    "\n",
    "# misc\n",
    "import os\n",
    "import shutil\n",
    "import math\n",
    "import datetime\n",
    "# plots\n",
    "import matplotlib.pyplot as plt\n",
    "%matplotlib inline\n",
    "# image operation\n",
    "import cv2"
   ]
  },
  {
   "cell_type": "code",
   "execution_count": null,
   "id": "68f97c47-e900-4a1f-b074-e2b7694b184a",
   "metadata": {},
   "outputs": [],
   "source": [
    "# from pytube import YouTube\n",
    "# YouTube('https://youtu.be/2lAe1cqCOXo').streams.first().download()\n",
    "# yt = YouTube('http://youtube.com/watch?v=2lAe1cqCOXo')\n",
    "# yt.streams.filter(progressive=True, file_extension='mp4').order_by('resolution').desc().first().download()"
   ]
  },
  {
   "cell_type": "code",
   "execution_count": null,
   "id": "934e22ab",
   "metadata": {
    "papermill": {
     "duration": null,
     "end_time": null,
     "exception": null,
     "start_time": null,
     "status": "completed"
    },
    "tags": []
   },
   "outputs": [],
   "source": [
    "# thanks to the Medium article \n",
    "# https://towardsdatascience.com/the-easiest-way-to-download-youtube-videos-using-python-2640958318ab\n"
   ]
  },
  {
   "cell_type": "code",
   "execution_count": null,
   "id": "bb6d18d8",
   "metadata": {
    "papermill": {
     "duration": null,
     "end_time": null,
     "exception": null,
     "start_time": null,
     "status": "completed"
    },
    "tags": []
   },
   "outputs": [],
   "source": [
    "# Replace with your desired YouTube URL\n",
    "\n",
    "# Download the video\n",
    "import yt_dlp\n",
    "\n",
    "url = 'https://youtu.be/OHl_0s4qqUY'\n",
    "ydl_opts = {'outtmpl': '%(title)s.%(ext)s'}  # Save as video title\n",
    "\n",
    "with yt_dlp.YoutubeDL(ydl_opts) as ydl:\n",
    "    ydl.download([url])"
   ]
  },
  {
   "cell_type": "code",
   "execution_count": null,
   "id": "4caa6940",
   "metadata": {
    "papermill": {
     "duration": null,
     "end_time": null,
     "exception": null,
     "start_time": null,
     "status": "completed"
    },
    "tags": []
   },
   "outputs": [],
   "source": [
    "class FrameExtractor():\n",
    "    '''\n",
    "    Class used for extracting frames from a video file.\n",
    "    '''\n",
    "    def __init__(self, video_path):\n",
    "        self.video_path = video_path\n",
    "        self.vid_cap = cv2.VideoCapture(video_path)\n",
    "        if not self.vid_cap.isOpened():\n",
    "            raise ValueError(f\"Cannot open video file: {video_path}\")\n",
    "        self.n_frames = int(self.vid_cap.get(cv2.CAP_PROP_FRAME_COUNT))\n",
    "        self.fps = float(self.vid_cap.get(cv2.CAP_PROP_FPS))\n",
    "        \n",
    "    def get_video_duration(self):\n",
    "        duration = self.n_frames / self.fps\n",
    "        print(f'Duration: {datetime.timedelta(seconds=duration)}')\n",
    "        \n",
    "    def get_n_images(self, every_x_frame):\n",
    "        n_images = math.floor(self.n_frames / every_x_frame) + 1\n",
    "        print(f'Extracting every {every_x_frame} frame would result in {n_images} images.')\n",
    "        \n",
    "    def extract_frames(self, every_x_frame, img_name, dest_path=None, img_ext='.jpg'):\n",
    "        if not self.vid_cap.isOpened():\n",
    "            self.vid_cap = cv2.VideoCapture(self.video_path)\n",
    "            if not self.vid_cap.isOpened():\n",
    "                raise ValueError(f\"Cannot open video file: {self.video_path}\")\n",
    "        \n",
    "        if dest_path is None:\n",
    "            dest_path = os.getcwd()\n",
    "        else:\n",
    "            if not os.path.isdir(dest_path):\n",
    "                os.makedirs(dest_path, exist_ok=True)\n",
    "                print(f'Created the following directory: {dest_path}')\n",
    "        \n",
    "        frame_cnt = 0\n",
    "        img_cnt = 0\n",
    "\n",
    "        while True:\n",
    "            success, image = self.vid_cap.read()\n",
    "            if not success:\n",
    "                break\n",
    "            if frame_cnt % every_x_frame == 0:\n",
    "                img_path = os.path.join(dest_path, f\"{img_name}_{img_cnt}{img_ext}\")\n",
    "                if image is not None:\n",
    "                    cv2.imwrite(img_path, image)\n",
    "                    img_cnt += 1\n",
    "            frame_cnt += 1\n",
    "\n",
    "        self.vid_cap.release()"
   ]
  },
  {
   "cell_type": "code",
   "execution_count": null,
   "id": "ac235a05",
   "metadata": {
    "papermill": {
     "duration": null,
     "end_time": null,
     "exception": null,
     "start_time": null,
     "status": "completed"
    },
    "tags": []
   },
   "outputs": [],
   "source": [
    "fe = FrameExtractor(video_path='Super-Large-Scale Flow Visualization with Snow.mp4')"
   ]
  },
  {
   "cell_type": "code",
   "execution_count": null,
   "id": "1202af02",
   "metadata": {
    "papermill": {
     "duration": null,
     "end_time": null,
     "exception": null,
     "start_time": null,
     "status": "completed"
    },
    "tags": []
   },
   "outputs": [],
   "source": [
    "fe.get_n_images(every_x_frame=4)"
   ]
  },
  {
   "cell_type": "code",
   "execution_count": null,
   "id": "150a06f8",
   "metadata": {
    "papermill": {
     "duration": null,
     "end_time": null,
     "exception": null,
     "start_time": null,
     "status": "completed"
    },
    "tags": []
   },
   "outputs": [],
   "source": [
    "fe.extract_frames(every_x_frame=4, \n",
    "                  img_name='test', \n",
    "                  dest_path='test_images')"
   ]
  },
  {
   "cell_type": "code",
   "execution_count": null,
   "id": "4f8503b2",
   "metadata": {
    "papermill": {
     "duration": null,
     "end_time": null,
     "exception": null,
     "start_time": null,
     "status": "completed"
    },
    "tags": []
   },
   "outputs": [],
   "source": [
    "import os, glob, re\n",
    "\n",
    "image_list = glob.glob('./test_images/test_*.jpg')\n",
    "image_list.sort(key=lambda x:float(re.findall(\"(\\d+)\",x)[0]))\n",
    "print(image_list)"
   ]
  },
  {
   "cell_type": "code",
   "execution_count": null,
   "id": "c21d9c9a",
   "metadata": {
    "papermill": {
     "duration": null,
     "end_time": null,
     "exception": null,
     "start_time": null,
     "status": "completed"
    },
    "tags": []
   },
   "outputs": [],
   "source": [
    "import matplotlib.pyplot as plt\n",
    "import imageio\n",
    "from openpiv.piv import simple_piv\n",
    "\n",
    "plt.imshow(imageio.imread(image_list[130]))"
   ]
  },
  {
   "cell_type": "code",
   "execution_count": null,
   "id": "2f8af46f",
   "metadata": {
    "papermill": {
     "duration": null,
     "end_time": null,
     "exception": null,
     "start_time": null,
     "status": "completed"
    },
    "tags": []
   },
   "outputs": [],
   "source": [
    "import numpy as np\n",
    "\n",
    "def rgb2gray(rgb):\n",
    "    return np.dot(rgb[...,:3], [0.2989, 0.5870, 0.1140])\n",
    "\n",
    "for i in range(130, 134, 1):\n",
    "    print(i)\n",
    "    a = rgb2gray(imageio.imread(image_list[i]))\n",
    "    b = rgb2gray(imageio.imread(image_list[i+1]))\n",
    "    # plt.figure()\n",
    "    # plt.imshow(np.sum(a,axis=2),cmap='gray')\n",
    "    # plt.figure()\n",
    "    # plt.imshow(np.sum(b,axis=2),cmap='gray')\n",
    "    simple_piv(a, b)"
   ]
  },
  {
   "cell_type": "code",
   "execution_count": null,
   "id": "086b4d60",
   "metadata": {
    "papermill": {
     "duration": null,
     "end_time": null,
     "exception": null,
     "start_time": null,
     "status": "completed"
    },
    "tags": []
   },
   "outputs": [],
   "source": [
    "import shutil\n",
    "shutil.rmtree('./test_images')"
   ]
  },
  {
   "cell_type": "code",
   "execution_count": null,
   "id": "6f008625",
   "metadata": {
    "papermill": {
     "duration": null,
     "end_time": null,
     "exception": null,
     "start_time": null,
     "status": "completed"
    },
    "tags": []
   },
   "outputs": [],
   "source": []
  },
  {
   "cell_type": "code",
   "execution_count": null,
   "id": "16368a71-0bfc-418b-81c7-3998b527c1f7",
   "metadata": {},
   "outputs": [],
   "source": []
  }
 ],
 "metadata": {
  "kernelspec": {
   "display_name": "openpiv-python-examples",
   "language": "python",
   "name": "python3"
  },
  "language_info": {
   "codemirror_mode": {
    "name": "ipython",
    "version": 3
   },
   "file_extension": ".py",
   "mimetype": "text/x-python",
   "name": "python",
   "nbconvert_exporter": "python",
   "pygments_lexer": "ipython3",
   "version": "3.11.13"
  },
  "metadata": {
   "interpreter": {
    "hash": "41f5f0438dc4e3a82bed3f79924308eb45f1e47bd23729f3ef4bcb36970735b2"
   }
  },
  "papermill": {
   "default_parameters": {},
   "duration": 0.043168,
   "end_time": "2022-10-20T19:15:35.284869",
   "environment_variables": {},
   "exception": null,
   "input_path": "./notebooks/openpiv_snow.ipynb",
   "output_path": "./notebooks/openpiv_snow.ipynb",
   "parameters": {},
   "start_time": "2022-10-20T19:15:35.241701",
   "version": "2.4.0"
  }
 },
 "nbformat": 4,
 "nbformat_minor": 5
}
