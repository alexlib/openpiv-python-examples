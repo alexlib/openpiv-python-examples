{
 "cells": [
  {
   "cell_type": "code",
   "execution_count": 1,
   "metadata": {},
   "outputs": [],
   "source": [
    "# Only once, for the first time you install the project\n",
    "# conda create -n openpiv-examples python=3.10\n",
    "# conda activate openpiv-examples\n",
    "# %pip install -r requirements.txt\n"
   ]
  },
  {
   "cell_type": "code",
   "execution_count": 2,
   "metadata": {},
   "outputs": [
    {
     "name": "stdout",
     "output_type": "stream",
     "text": [
      "./notebooks/testing_rotation_differences.nbconvert.ipynb\n"
     ]
    },
    {
     "name": "stderr",
     "output_type": "stream",
     "text": [
      "[NbConvertApp] Converting notebook ./notebooks/testing_rotation_differences.nbconvert.ipynb to notebook\n",
      "[NbConvertApp] Writing 162620 bytes to notebooks/testing_rotation_differences.nbconvert.nbconvert.ipynb\n"
     ]
    },
    {
     "name": "stdout",
     "output_type": "stream",
     "text": [
      "./notebooks/test_find_subpixel_position.nbconvert.ipynb\n"
     ]
    },
    {
     "name": "stderr",
     "output_type": "stream",
     "text": [
      "[NbConvertApp] Converting notebook ./notebooks/test_find_subpixel_position.nbconvert.ipynb to notebook\n",
      "[NbConvertApp] Writing 44986 bytes to notebooks/test_find_subpixel_position.nbconvert.nbconvert.ipynb\n"
     ]
    },
    {
     "name": "stdout",
     "output_type": "stream",
     "text": [
      "./notebooks/phase_separation.nbconvert.nbconvert.ipynb\n"
     ]
    },
    {
     "name": "stderr",
     "output_type": "stream",
     "text": [
      "[NbConvertApp] Converting notebook ./notebooks/phase_separation.nbconvert.nbconvert.ipynb to notebook\n",
      "[NbConvertApp] Writing 6102672 bytes to notebooks/phase_separation.nbconvert.nbconvert.nbconvert.ipynb\n"
     ]
    },
    {
     "name": "stdout",
     "output_type": "stream",
     "text": [
      "./notebooks/dynamic_masking.nbconvert.ipynb\n"
     ]
    },
    {
     "name": "stderr",
     "output_type": "stream",
     "text": [
      "[NbConvertApp] Converting notebook ./notebooks/dynamic_masking.nbconvert.ipynb to notebook\n",
      "[NbConvertApp] Writing 1517064 bytes to notebooks/dynamic_masking.nbconvert.nbconvert.ipynb\n"
     ]
    },
    {
     "name": "stdout",
     "output_type": "stream",
     "text": [
      "./notebooks/analyse_movie.nbconvert.ipynb\n"
     ]
    },
    {
     "name": "stderr",
     "output_type": "stream",
     "text": [
      "[NbConvertApp] Converting notebook ./notebooks/analyse_movie.nbconvert.ipynb to notebook\n",
      "[NbConvertApp] Writing 824606 bytes to notebooks/analyse_movie.nbconvert.nbconvert.ipynb\n"
     ]
    },
    {
     "name": "stdout",
     "output_type": "stream",
     "text": [
      "./notebooks/20230601_multigrid_PIV_clean.ipynb\n"
     ]
    },
    {
     "name": "stderr",
     "output_type": "stream",
     "text": [
      "[NbConvertApp] Converting notebook ./notebooks/20230601_multigrid_PIV_clean.ipynb to notebook\n",
      "[NbConvertApp] Writing 1558015 bytes to notebooks/20230601_multigrid_PIV_clean.nbconvert.ipynb\n"
     ]
    },
    {
     "name": "stdout",
     "output_type": "stream",
     "text": [
      "./notebooks/vonKarman_openpiv_11_maps.ipynb\n"
     ]
    },
    {
     "name": "stderr",
     "output_type": "stream",
     "text": [
      "[NbConvertApp] Converting notebook ./notebooks/vonKarman_openpiv_11_maps.ipynb to notebook\n",
      "[NbConvertApp] Writing 8619547 bytes to notebooks/vonKarman_openpiv_11_maps.nbconvert.ipynb\n"
     ]
    },
    {
     "name": "stdout",
     "output_type": "stream",
     "text": [
      "./notebooks/studying_correlations.ipynb\n"
     ]
    },
    {
     "name": "stderr",
     "output_type": "stream",
     "text": [
      "[NbConvertApp] Converting notebook ./notebooks/studying_correlations.ipynb to notebook\n",
      "[NbConvertApp] Writing 170146 bytes to notebooks/studying_correlations.nbconvert.ipynb\n"
     ]
    },
    {
     "name": "stdout",
     "output_type": "stream",
     "text": [
      "./notebooks/tutorial_multipass.nbconvert.ipynb\n"
     ]
    },
    {
     "name": "stderr",
     "output_type": "stream",
     "text": [
      "[NbConvertApp] Converting notebook ./notebooks/tutorial_multipass.nbconvert.ipynb to notebook\n",
      "[NbConvertApp] Writing 667128 bytes to notebooks/tutorial_multipass.nbconvert.nbconvert.ipynb\n"
     ]
    },
    {
     "name": "stdout",
     "output_type": "stream",
     "text": [
      "./notebooks/20230601_multigrid_PIV_clean.nbconvert.ipynb\n"
     ]
    },
    {
     "name": "stderr",
     "output_type": "stream",
     "text": [
      "[NbConvertApp] Converting notebook ./notebooks/20230601_multigrid_PIV_clean.nbconvert.ipynb to notebook\n",
      "[NbConvertApp] Writing 1558015 bytes to notebooks/20230601_multigrid_PIV_clean.nbconvert.nbconvert.ipynb\n"
     ]
    },
    {
     "name": "stdout",
     "output_type": "stream",
     "text": [
      "./notebooks/openpiv_static_masking_example.ipynb\n"
     ]
    },
    {
     "name": "stderr",
     "output_type": "stream",
     "text": [
      "[NbConvertApp] Converting notebook ./notebooks/openpiv_static_masking_example.ipynb to notebook\n",
      "[NbConvertApp] Writing 6717111 bytes to notebooks/openpiv_static_masking_example.nbconvert.ipynb\n"
     ]
    },
    {
     "name": "stdout",
     "output_type": "stream",
     "text": [
      "./notebooks/bacteria_in_a_circle.nbconvert.ipynb\n"
     ]
    },
    {
     "name": "stderr",
     "output_type": "stream",
     "text": [
      "[NbConvertApp] Converting notebook ./notebooks/bacteria_in_a_circle.nbconvert.ipynb to notebook\n",
      "[NbConvertApp] Writing 2104700 bytes to notebooks/bacteria_in_a_circle.nbconvert.nbconvert.ipynb\n"
     ]
    },
    {
     "name": "stdout",
     "output_type": "stream",
     "text": [
      "./notebooks/openpiv_night_lava_movie.ipynb\n"
     ]
    },
    {
     "name": "stderr",
     "output_type": "stream",
     "text": [
      "[NbConvertApp] Converting notebook ./notebooks/openpiv_night_lava_movie.ipynb to notebook\n",
      "[NbConvertApp] Writing 1652045 bytes to notebooks/openpiv_night_lava_movie.nbconvert.ipynb\n"
     ]
    },
    {
     "name": "stdout",
     "output_type": "stream",
     "text": [
      "./notebooks/tutorial1.ipynb\n"
     ]
    },
    {
     "name": "stderr",
     "output_type": "stream",
     "text": [
      "[NbConvertApp] Converting notebook ./notebooks/tutorial1.ipynb to notebook\n",
      "[NbConvertApp] Writing 2259265 bytes to notebooks/tutorial1.nbconvert.ipynb\n"
     ]
    },
    {
     "name": "stdout",
     "output_type": "stream",
     "text": [
      "./notebooks/test20_windef.nbconvert.nbconvert.ipynb\n"
     ]
    },
    {
     "name": "stderr",
     "output_type": "stream",
     "text": [
      "[NbConvertApp] Converting notebook ./notebooks/test20_windef.nbconvert.nbconvert.ipynb to notebook\n",
      "[NbConvertApp] Writing 3588710 bytes to notebooks/test20_windef.nbconvert.nbconvert.nbconvert.ipynb\n"
     ]
    },
    {
     "name": "stdout",
     "output_type": "stream",
     "text": [
      "./notebooks/analyse_movie_natural_cavity.ipynb\n"
     ]
    },
    {
     "name": "stderr",
     "output_type": "stream",
     "text": [
      "[NbConvertApp] Converting notebook ./notebooks/analyse_movie_natural_cavity.ipynb to notebook\n",
      "Traceback (most recent call last):\n",
      "  File \"/home/user/Documents/GitHub/openpiv-python-examples/.venv/lib/python3.11/site-packages/jupyter_core/utils/__init__.py\", line 154, in wrapped\n",
      "    asyncio.get_running_loop()\n",
      "RuntimeError: no running event loop\n",
      "\n",
      "During handling of the above exception, another exception occurred:\n",
      "\n",
      "Traceback (most recent call last):\n",
      "  File \"/home/user/Documents/GitHub/openpiv-python-examples/.venv/bin/jupyter-nbconvert\", line 10, in <module>\n",
      "    sys.exit(main())\n",
      "             ^^^^^^\n",
      "  File \"/home/user/Documents/GitHub/openpiv-python-examples/.venv/lib/python3.11/site-packages/jupyter_core/application.py\", line 284, in launch_instance\n",
      "    super().launch_instance(argv=argv, **kwargs)\n",
      "  File \"/home/user/Documents/GitHub/openpiv-python-examples/.venv/lib/python3.11/site-packages/traitlets/config/application.py\", line 1075, in launch_instance\n",
      "    app.start()\n",
      "  File \"/home/user/Documents/GitHub/openpiv-python-examples/.venv/lib/python3.11/site-packages/nbconvert/nbconvertapp.py\", line 420, in start\n",
      "    self.convert_notebooks()\n",
      "  File \"/home/user/Documents/GitHub/openpiv-python-examples/.venv/lib/python3.11/site-packages/nbconvert/nbconvertapp.py\", line 597, in convert_notebooks\n",
      "    self.convert_single_notebook(notebook_filename)\n",
      "  File \"/home/user/Documents/GitHub/openpiv-python-examples/.venv/lib/python3.11/site-packages/nbconvert/nbconvertapp.py\", line 563, in convert_single_notebook\n",
      "    output, resources = self.export_single_notebook(\n",
      "                        ^^^^^^^^^^^^^^^^^^^^^^^^^^^^\n",
      "  File \"/home/user/Documents/GitHub/openpiv-python-examples/.venv/lib/python3.11/site-packages/nbconvert/nbconvertapp.py\", line 487, in export_single_notebook\n",
      "    output, resources = self.exporter.from_filename(\n",
      "                        ^^^^^^^^^^^^^^^^^^^^^^^^^^^^\n",
      "  File \"/home/user/Documents/GitHub/openpiv-python-examples/.venv/lib/python3.11/site-packages/nbconvert/exporters/exporter.py\", line 201, in from_filename\n",
      "    return self.from_file(f, resources=resources, **kw)\n",
      "           ^^^^^^^^^^^^^^^^^^^^^^^^^^^^^^^^^^^^^^^^^^^^\n",
      "  File \"/home/user/Documents/GitHub/openpiv-python-examples/.venv/lib/python3.11/site-packages/nbconvert/exporters/exporter.py\", line 220, in from_file\n",
      "    return self.from_notebook_node(\n",
      "           ^^^^^^^^^^^^^^^^^^^^^^^^\n",
      "  File \"/home/user/Documents/GitHub/openpiv-python-examples/.venv/lib/python3.11/site-packages/nbconvert/exporters/notebook.py\", line 36, in from_notebook_node\n",
      "    nb_copy, resources = super().from_notebook_node(nb, resources, **kw)\n",
      "                         ^^^^^^^^^^^^^^^^^^^^^^^^^^^^^^^^^^^^^^^^^^^^^^^\n",
      "  File \"/home/user/Documents/GitHub/openpiv-python-examples/.venv/lib/python3.11/site-packages/nbconvert/exporters/exporter.py\", line 154, in from_notebook_node\n",
      "    nb_copy, resources = self._preprocess(nb_copy, resources)\n",
      "                         ^^^^^^^^^^^^^^^^^^^^^^^^^^^^^^^^^^^^\n",
      "  File \"/home/user/Documents/GitHub/openpiv-python-examples/.venv/lib/python3.11/site-packages/nbconvert/exporters/exporter.py\", line 353, in _preprocess\n",
      "    nbc, resc = preprocessor(nbc, resc)\n",
      "                ^^^^^^^^^^^^^^^^^^^^^^^\n",
      "  File \"/home/user/Documents/GitHub/openpiv-python-examples/.venv/lib/python3.11/site-packages/nbconvert/preprocessors/base.py\", line 48, in __call__\n",
      "    return self.preprocess(nb, resources)\n",
      "           ^^^^^^^^^^^^^^^^^^^^^^^^^^^^^^\n",
      "  File \"/home/user/Documents/GitHub/openpiv-python-examples/.venv/lib/python3.11/site-packages/nbconvert/preprocessors/execute.py\", line 103, in preprocess\n",
      "    self.preprocess_cell(cell, resources, index)\n",
      "  File \"/home/user/Documents/GitHub/openpiv-python-examples/.venv/lib/python3.11/site-packages/nbconvert/preprocessors/execute.py\", line 124, in preprocess_cell\n",
      "    cell = self.execute_cell(cell, index, store_history=True)\n",
      "           ^^^^^^^^^^^^^^^^^^^^^^^^^^^^^^^^^^^^^^^^^^^^^^^^^^\n",
      "  File \"/home/user/Documents/GitHub/openpiv-python-examples/.venv/lib/python3.11/site-packages/jupyter_core/utils/__init__.py\", line 158, in wrapped\n",
      "    return loop.run_until_complete(inner)\n",
      "           ^^^^^^^^^^^^^^^^^^^^^^^^^^^^^^\n",
      "  File \"/home/user/.local/share/uv/python/cpython-3.11.13-linux-x86_64-gnu/lib/python3.11/asyncio/base_events.py\", line 654, in run_until_complete\n",
      "    return future.result()\n",
      "           ^^^^^^^^^^^^^^^\n",
      "  File \"/home/user/Documents/GitHub/openpiv-python-examples/.venv/lib/python3.11/site-packages/nbclient/client.py\", line 1062, in async_execute_cell\n",
      "    await self._check_raise_for_error(cell, cell_index, exec_reply)\n",
      "  File \"/home/user/Documents/GitHub/openpiv-python-examples/.venv/lib/python3.11/site-packages/nbclient/client.py\", line 918, in _check_raise_for_error\n",
      "    raise CellExecutionError.from_cell_and_msg(cell, exec_reply_content)\n",
      "nbclient.exceptions.CellExecutionError: An error occurred while executing the following cell:\n",
      "------------------\n",
      "U = np.stack(U)\n",
      "Umean = np.nanmean(U, axis=0)\n",
      "V = np.stack(V)\n",
      "Vmean = np.nanmean(V,axis=0)\n",
      "------------------\n",
      "\n",
      "\n",
      "\u001b[31m---------------------------------------------------------------------------\u001b[39m\n",
      "\u001b[31mValueError\u001b[39m                                Traceback (most recent call last)\n",
      "\u001b[36mCell\u001b[39m\u001b[36m \u001b[39m\u001b[32mIn[6]\u001b[39m\u001b[32m, line 1\u001b[39m\n",
      "\u001b[32m----> \u001b[39m\u001b[32m1\u001b[39m U = \u001b[43mnp\u001b[49m\u001b[43m.\u001b[49m\u001b[43mstack\u001b[49m\u001b[43m(\u001b[49m\u001b[43mU\u001b[49m\u001b[43m)\u001b[49m\n",
      "\u001b[32m      2\u001b[39m Umean = np.nanmean(U, axis=\u001b[32m0\u001b[39m)\n",
      "\u001b[32m      3\u001b[39m V = np.stack(V)\n",
      "\n",
      "\u001b[36mFile \u001b[39m\u001b[32m~/Documents/GitHub/openpiv-python-examples/.venv/lib/python3.11/site-packages/numpy/_core/shape_base.py:456\u001b[39m, in \u001b[36mstack\u001b[39m\u001b[34m(arrays, axis, out, dtype, casting)\u001b[39m\n",
      "\u001b[32m    454\u001b[39m arrays = [asanyarray(arr) \u001b[38;5;28;01mfor\u001b[39;00m arr \u001b[38;5;129;01min\u001b[39;00m arrays]\n",
      "\u001b[32m    455\u001b[39m \u001b[38;5;28;01mif\u001b[39;00m \u001b[38;5;129;01mnot\u001b[39;00m arrays:\n",
      "\u001b[32m--> \u001b[39m\u001b[32m456\u001b[39m     \u001b[38;5;28;01mraise\u001b[39;00m \u001b[38;5;167;01mValueError\u001b[39;00m(\u001b[33m'\u001b[39m\u001b[33mneed at least one array to stack\u001b[39m\u001b[33m'\u001b[39m)\n",
      "\u001b[32m    458\u001b[39m shapes = {arr.shape \u001b[38;5;28;01mfor\u001b[39;00m arr \u001b[38;5;129;01min\u001b[39;00m arrays}\n",
      "\u001b[32m    459\u001b[39m \u001b[38;5;28;01mif\u001b[39;00m \u001b[38;5;28mlen\u001b[39m(shapes) != \u001b[32m1\u001b[39m:\n",
      "\n",
      "\u001b[31mValueError\u001b[39m: need at least one array to stack\n",
      "\n"
     ]
    },
    {
     "name": "stdout",
     "output_type": "stream",
     "text": [
      "./notebooks/openpiv_bird_gifs.nbconvert.ipynb\n"
     ]
    },
    {
     "name": "stderr",
     "output_type": "stream",
     "text": [
      "[NbConvertApp] Converting notebook ./notebooks/openpiv_bird_gifs.nbconvert.ipynb to notebook\n",
      "[NbConvertApp] Writing 1815834 bytes to notebooks/openpiv_bird_gifs.nbconvert.nbconvert.ipynb\n"
     ]
    },
    {
     "name": "stdout",
     "output_type": "stream",
     "text": [
      "./notebooks/tutorial2.ipynb\n"
     ]
    },
    {
     "name": "stderr",
     "output_type": "stream",
     "text": [
      "[NbConvertApp] Converting notebook ./notebooks/tutorial2.ipynb to notebook\n",
      "Traceback (most recent call last):\n",
      "  File \"/home/user/Documents/GitHub/openpiv-python-examples/.venv/lib/python3.11/site-packages/jupyter_core/utils/__init__.py\", line 154, in wrapped\n",
      "    asyncio.get_running_loop()\n",
      "RuntimeError: no running event loop\n",
      "\n",
      "During handling of the above exception, another exception occurred:\n",
      "\n",
      "Traceback (most recent call last):\n",
      "  File \"/home/user/Documents/GitHub/openpiv-python-examples/.venv/bin/jupyter-nbconvert\", line 10, in <module>\n",
      "    sys.exit(main())\n",
      "             ^^^^^^\n",
      "  File \"/home/user/Documents/GitHub/openpiv-python-examples/.venv/lib/python3.11/site-packages/jupyter_core/application.py\", line 284, in launch_instance\n",
      "    super().launch_instance(argv=argv, **kwargs)\n",
      "  File \"/home/user/Documents/GitHub/openpiv-python-examples/.venv/lib/python3.11/site-packages/traitlets/config/application.py\", line 1075, in launch_instance\n",
      "    app.start()\n",
      "  File \"/home/user/Documents/GitHub/openpiv-python-examples/.venv/lib/python3.11/site-packages/nbconvert/nbconvertapp.py\", line 420, in start\n",
      "    self.convert_notebooks()\n",
      "  File \"/home/user/Documents/GitHub/openpiv-python-examples/.venv/lib/python3.11/site-packages/nbconvert/nbconvertapp.py\", line 597, in convert_notebooks\n",
      "    self.convert_single_notebook(notebook_filename)\n",
      "  File \"/home/user/Documents/GitHub/openpiv-python-examples/.venv/lib/python3.11/site-packages/nbconvert/nbconvertapp.py\", line 563, in convert_single_notebook\n",
      "    output, resources = self.export_single_notebook(\n",
      "                        ^^^^^^^^^^^^^^^^^^^^^^^^^^^^\n",
      "  File \"/home/user/Documents/GitHub/openpiv-python-examples/.venv/lib/python3.11/site-packages/nbconvert/nbconvertapp.py\", line 487, in export_single_notebook\n",
      "    output, resources = self.exporter.from_filename(\n",
      "                        ^^^^^^^^^^^^^^^^^^^^^^^^^^^^\n",
      "  File \"/home/user/Documents/GitHub/openpiv-python-examples/.venv/lib/python3.11/site-packages/nbconvert/exporters/exporter.py\", line 201, in from_filename\n",
      "    return self.from_file(f, resources=resources, **kw)\n",
      "           ^^^^^^^^^^^^^^^^^^^^^^^^^^^^^^^^^^^^^^^^^^^^\n",
      "  File \"/home/user/Documents/GitHub/openpiv-python-examples/.venv/lib/python3.11/site-packages/nbconvert/exporters/exporter.py\", line 220, in from_file\n",
      "    return self.from_notebook_node(\n",
      "           ^^^^^^^^^^^^^^^^^^^^^^^^\n",
      "  File \"/home/user/Documents/GitHub/openpiv-python-examples/.venv/lib/python3.11/site-packages/nbconvert/exporters/notebook.py\", line 36, in from_notebook_node\n",
      "    nb_copy, resources = super().from_notebook_node(nb, resources, **kw)\n",
      "                         ^^^^^^^^^^^^^^^^^^^^^^^^^^^^^^^^^^^^^^^^^^^^^^^\n",
      "  File \"/home/user/Documents/GitHub/openpiv-python-examples/.venv/lib/python3.11/site-packages/nbconvert/exporters/exporter.py\", line 154, in from_notebook_node\n",
      "    nb_copy, resources = self._preprocess(nb_copy, resources)\n",
      "                         ^^^^^^^^^^^^^^^^^^^^^^^^^^^^^^^^^^^^\n",
      "  File \"/home/user/Documents/GitHub/openpiv-python-examples/.venv/lib/python3.11/site-packages/nbconvert/exporters/exporter.py\", line 353, in _preprocess\n",
      "    nbc, resc = preprocessor(nbc, resc)\n",
      "                ^^^^^^^^^^^^^^^^^^^^^^^\n",
      "  File \"/home/user/Documents/GitHub/openpiv-python-examples/.venv/lib/python3.11/site-packages/nbconvert/preprocessors/base.py\", line 48, in __call__\n",
      "    return self.preprocess(nb, resources)\n",
      "           ^^^^^^^^^^^^^^^^^^^^^^^^^^^^^^\n",
      "  File \"/home/user/Documents/GitHub/openpiv-python-examples/.venv/lib/python3.11/site-packages/nbconvert/preprocessors/execute.py\", line 103, in preprocess\n",
      "    self.preprocess_cell(cell, resources, index)\n",
      "  File \"/home/user/Documents/GitHub/openpiv-python-examples/.venv/lib/python3.11/site-packages/nbconvert/preprocessors/execute.py\", line 124, in preprocess_cell\n",
      "    cell = self.execute_cell(cell, index, store_history=True)\n",
      "           ^^^^^^^^^^^^^^^^^^^^^^^^^^^^^^^^^^^^^^^^^^^^^^^^^^\n",
      "  File \"/home/user/Documents/GitHub/openpiv-python-examples/.venv/lib/python3.11/site-packages/jupyter_core/utils/__init__.py\", line 158, in wrapped\n",
      "    return loop.run_until_complete(inner)\n",
      "           ^^^^^^^^^^^^^^^^^^^^^^^^^^^^^^\n",
      "  File \"/home/user/.local/share/uv/python/cpython-3.11.13-linux-x86_64-gnu/lib/python3.11/asyncio/base_events.py\", line 654, in run_until_complete\n",
      "    return future.result()\n",
      "           ^^^^^^^^^^^^^^^\n",
      "  File \"/home/user/Documents/GitHub/openpiv-python-examples/.venv/lib/python3.11/site-packages/nbclient/client.py\", line 1062, in async_execute_cell\n",
      "    await self._check_raise_for_error(cell, cell_index, exec_reply)\n",
      "  File \"/home/user/Documents/GitHub/openpiv-python-examples/.venv/lib/python3.11/site-packages/nbclient/client.py\", line 918, in _check_raise_for_error\n",
      "    raise CellExecutionError.from_cell_and_msg(cell, exec_reply_content)\n",
      "nbclient.exceptions.CellExecutionError: An error occurred while executing the following cell:\n",
      "------------------\n",
      "\n",
      "path = pathlib.Path('../test2/')\n",
      "task = tools.Multiprocesser( data_dir = path, pattern_a='2image_*0.tif', pattern_b='2image_*1.tif' )\n",
      "task.run( func = func, n_cpus=1 )\n",
      "------------------\n",
      "\n",
      "\n",
      "\u001b[31m---------------------------------------------------------------------------\u001b[39m\n",
      "\u001b[31mOverflowError\u001b[39m                             Traceback (most recent call last)\n",
      "\u001b[36mCell\u001b[39m\u001b[36m \u001b[39m\u001b[32mIn[3]\u001b[39m\u001b[32m, line 3\u001b[39m\n",
      "\u001b[32m      1\u001b[39m path = pathlib.Path(\u001b[33m'\u001b[39m\u001b[33m../test2/\u001b[39m\u001b[33m'\u001b[39m)\n",
      "\u001b[32m      2\u001b[39m task = tools.Multiprocesser( data_dir = path, pattern_a=\u001b[33m'\u001b[39m\u001b[33m2image_*0.tif\u001b[39m\u001b[33m'\u001b[39m, pattern_b=\u001b[33m'\u001b[39m\u001b[33m2image_*1.tif\u001b[39m\u001b[33m'\u001b[39m )\n",
      "\u001b[32m----> \u001b[39m\u001b[32m3\u001b[39m \u001b[43mtask\u001b[49m\u001b[43m.\u001b[49m\u001b[43mrun\u001b[49m\u001b[43m(\u001b[49m\u001b[43m \u001b[49m\u001b[43mfunc\u001b[49m\u001b[43m \u001b[49m\u001b[43m=\u001b[49m\u001b[43m \u001b[49m\u001b[43mfunc\u001b[49m\u001b[43m,\u001b[49m\u001b[43m \u001b[49m\u001b[43mn_cpus\u001b[49m\u001b[43m=\u001b[49m\u001b[32;43m1\u001b[39;49m\u001b[43m \u001b[49m\u001b[43m)\u001b[49m\n",
      "\n",
      "\u001b[36mFile \u001b[39m\u001b[32m~/Documents/GitHub/openpiv-python-examples/.venv/lib/python3.11/site-packages/openpiv/tools.py:612\u001b[39m, in \u001b[36mMultiprocesser.run\u001b[39m\u001b[34m(self, func, n_cpus)\u001b[39m\n",
      "\u001b[32m    610\u001b[39m \u001b[38;5;28;01melse\u001b[39;00m:\n",
      "\u001b[32m    611\u001b[39m     \u001b[38;5;28;01mfor\u001b[39;00m image_pair \u001b[38;5;129;01min\u001b[39;00m image_pairs:\n",
      "\u001b[32m--> \u001b[39m\u001b[32m612\u001b[39m         \u001b[43mfunc\u001b[49m\u001b[43m(\u001b[49m\u001b[43mimage_pair\u001b[49m\u001b[43m)\u001b[49m\n",
      "\n",
      "\u001b[36mCell\u001b[39m\u001b[36m \u001b[39m\u001b[32mIn[2]\u001b[39m\u001b[32m, line 18\u001b[39m, in \u001b[36mfunc\u001b[39m\u001b[34m(args)\u001b[39m\n",
      "\u001b[32m     15\u001b[39m frame_a  = tools.imread( path / file_a )\n",
      "\u001b[32m     16\u001b[39m frame_b  = tools.imread( path.joinpath(file_b) )\n",
      "\u001b[32m---> \u001b[39m\u001b[32m18\u001b[39m frame_a = (\u001b[43mframe_a\u001b[49m\u001b[43m*\u001b[49m\u001b[32;43m1024\u001b[39;49m).astype(np.int32)\n",
      "\u001b[32m     19\u001b[39m frame_b = (frame_b*\u001b[32m1024\u001b[39m).astype(np.int32)\n",
      "\u001b[32m     22\u001b[39m \u001b[38;5;66;03m# process image pair with extended search area piv algorithm.\u001b[39;00m\n",
      "\n",
      "\u001b[31mOverflowError\u001b[39m: Python integer 1024 out of bounds for uint8\n",
      "\n"
     ]
    },
    {
     "name": "stdout",
     "output_type": "stream",
     "text": [
      "./notebooks/test20.ipynb\n"
     ]
    },
    {
     "name": "stderr",
     "output_type": "stream",
     "text": [
      "[NbConvertApp] Converting notebook ./notebooks/test20.ipynb to notebook\n",
      "[NbConvertApp] Writing 1505979 bytes to notebooks/test20.nbconvert.ipynb\n"
     ]
    },
    {
     "name": "stdout",
     "output_type": "stream",
     "text": [
      "./notebooks/analyse_movie.ipynb\n"
     ]
    },
    {
     "name": "stderr",
     "output_type": "stream",
     "text": [
      "[NbConvertApp] Converting notebook ./notebooks/analyse_movie.ipynb to notebook\n",
      "[NbConvertApp] Writing 824606 bytes to notebooks/analyse_movie.nbconvert.ipynb\n"
     ]
    },
    {
     "name": "stdout",
     "output_type": "stream",
     "text": [
      "./notebooks/tutorial_multipass.ipynb\n"
     ]
    },
    {
     "name": "stderr",
     "output_type": "stream",
     "text": [
      "[NbConvertApp] Converting notebook ./notebooks/tutorial_multipass.ipynb to notebook\n",
      "[NbConvertApp] Writing 667128 bytes to notebooks/tutorial_multipass.nbconvert.ipynb\n"
     ]
    },
    {
     "name": "stdout",
     "output_type": "stream",
     "text": [
      "./notebooks/case_B_windef_small_window.ipynb\n"
     ]
    },
    {
     "name": "stderr",
     "output_type": "stream",
     "text": [
      "[NbConvertApp] Converting notebook ./notebooks/case_B_windef_small_window.ipynb to notebook\n",
      "[NbConvertApp] Writing 4320642 bytes to notebooks/case_B_windef_small_window.nbconvert.ipynb\n"
     ]
    },
    {
     "name": "stdout",
     "output_type": "stream",
     "text": [
      "./notebooks/test_vectorized_functions.ipynb\n"
     ]
    },
    {
     "name": "stderr",
     "output_type": "stream",
     "text": [
      "[NbConvertApp] Converting notebook ./notebooks/test_vectorized_functions.ipynb to notebook\n",
      "[NbConvertApp] Writing 269962 bytes to notebooks/test_vectorized_functions.nbconvert.ipynb\n"
     ]
    },
    {
     "name": "stdout",
     "output_type": "stream",
     "text": [
      "./notebooks/phase_separation.nbconvert.ipynb\n"
     ]
    },
    {
     "name": "stderr",
     "output_type": "stream",
     "text": [
      "[NbConvertApp] Converting notebook ./notebooks/phase_separation.nbconvert.ipynb to notebook\n",
      "[NbConvertApp] Writing 6102672 bytes to notebooks/phase_separation.nbconvert.nbconvert.ipynb\n"
     ]
    },
    {
     "name": "stdout",
     "output_type": "stream",
     "text": [
      "./notebooks/openpiv_bird_gifs.ipynb\n"
     ]
    },
    {
     "name": "stderr",
     "output_type": "stream",
     "text": [
      "[NbConvertApp] Converting notebook ./notebooks/openpiv_bird_gifs.ipynb to notebook\n",
      "[NbConvertApp] Writing 1815834 bytes to notebooks/openpiv_bird_gifs.nbconvert.ipynb\n"
     ]
    },
    {
     "name": "stdout",
     "output_type": "stream",
     "text": [
      "./notebooks/testing_rotation_differences.ipynb\n"
     ]
    },
    {
     "name": "stderr",
     "output_type": "stream",
     "text": [
      "[NbConvertApp] Converting notebook ./notebooks/testing_rotation_differences.ipynb to notebook\n",
      "[NbConvertApp] Writing 162621 bytes to notebooks/testing_rotation_differences.nbconvert.ipynb\n"
     ]
    },
    {
     "name": "stdout",
     "output_type": "stream",
     "text": [
      "./notebooks/openpiv_static_masking_example.nbconvert.ipynb\n"
     ]
    },
    {
     "name": "stderr",
     "output_type": "stream",
     "text": [
      "[NbConvertApp] Converting notebook ./notebooks/openpiv_static_masking_example.nbconvert.ipynb to notebook\n",
      "[NbConvertApp] Writing 6717111 bytes to notebooks/openpiv_static_masking_example.nbconvert.nbconvert.ipynb\n"
     ]
    },
    {
     "name": "stdout",
     "output_type": "stream",
     "text": [
      "./notebooks/test20_multipass.nbconvert.ipynb\n"
     ]
    },
    {
     "name": "stderr",
     "output_type": "stream",
     "text": [
      "[NbConvertApp] Converting notebook ./notebooks/test20_multipass.nbconvert.ipynb to notebook\n",
      "[NbConvertApp] Writing 1090322 bytes to notebooks/test20_multipass.nbconvert.nbconvert.ipynb\n"
     ]
    },
    {
     "name": "stdout",
     "output_type": "stream",
     "text": [
      "./notebooks/extended_search_area_vectorized.nbconvert.ipynb\n"
     ]
    },
    {
     "name": "stderr",
     "output_type": "stream",
     "text": [
      "[NbConvertApp] Converting notebook ./notebooks/extended_search_area_vectorized.nbconvert.ipynb to notebook\n",
      "[NbConvertApp] Writing 185720 bytes to notebooks/extended_search_area_vectorized.nbconvert.nbconvert.ipynb\n"
     ]
    },
    {
     "name": "stdout",
     "output_type": "stream",
     "text": [
      "./notebooks/test_find_subpixel_position.nbconvert.nbconvert.ipynb\n"
     ]
    },
    {
     "name": "stderr",
     "output_type": "stream",
     "text": [
      "[NbConvertApp] Converting notebook ./notebooks/test_find_subpixel_position.nbconvert.nbconvert.ipynb to notebook\n",
      "[NbConvertApp] Writing 44986 bytes to notebooks/test_find_subpixel_position.nbconvert.nbconvert.nbconvert.ipynb\n"
     ]
    },
    {
     "name": "stdout",
     "output_type": "stream",
     "text": [
      "./notebooks/pyprocess_correlations.ipynb\n"
     ]
    },
    {
     "name": "stderr",
     "output_type": "stream",
     "text": [
      "[NbConvertApp] Converting notebook ./notebooks/pyprocess_correlations.ipynb to notebook\n",
      "[NbConvertApp] Writing 895987 bytes to notebooks/pyprocess_correlations.nbconvert.ipynb\n"
     ]
    },
    {
     "name": "stdout",
     "output_type": "stream",
     "text": [
      "./notebooks/phase_separation.ipynb\n"
     ]
    },
    {
     "name": "stderr",
     "output_type": "stream",
     "text": [
      "[NbConvertApp] Converting notebook ./notebooks/phase_separation.ipynb to notebook\n",
      "[NbConvertApp] Writing 6102672 bytes to notebooks/phase_separation.nbconvert.ipynb\n"
     ]
    },
    {
     "name": "stdout",
     "output_type": "stream",
     "text": [
      "./notebooks/test20_windef.nbconvert.ipynb\n"
     ]
    },
    {
     "name": "stderr",
     "output_type": "stream",
     "text": [
      "[NbConvertApp] Converting notebook ./notebooks/test20_windef.nbconvert.ipynb to notebook\n",
      "[NbConvertApp] Writing 3588710 bytes to notebooks/test20_windef.nbconvert.nbconvert.ipynb\n"
     ]
    },
    {
     "name": "stdout",
     "output_type": "stream",
     "text": [
      "./notebooks/openpiv_static_masking_example.nbconvert.nbconvert.ipynb\n"
     ]
    },
    {
     "name": "stderr",
     "output_type": "stream",
     "text": [
      "[NbConvertApp] Converting notebook ./notebooks/openpiv_static_masking_example.nbconvert.nbconvert.ipynb to notebook\n",
      "[NbConvertApp] Writing 6717111 bytes to notebooks/openpiv_static_masking_example.nbconvert.nbconvert.nbconvert.ipynb\n"
     ]
    },
    {
     "name": "stdout",
     "output_type": "stream",
     "text": [
      "./notebooks/dynamic_masking.ipynb\n"
     ]
    },
    {
     "name": "stderr",
     "output_type": "stream",
     "text": [
      "[NbConvertApp] Converting notebook ./notebooks/dynamic_masking.ipynb to notebook\n",
      "[NbConvertApp] Writing 1517064 bytes to notebooks/dynamic_masking.nbconvert.ipynb\n"
     ]
    },
    {
     "name": "stdout",
     "output_type": "stream",
     "text": [
      "./notebooks/test_rectangular_windows.nbconvert.ipynb\n"
     ]
    },
    {
     "name": "stderr",
     "output_type": "stream",
     "text": [
      "[NbConvertApp] Converting notebook ./notebooks/test_rectangular_windows.nbconvert.ipynb to notebook\n",
      "[NbConvertApp] Writing 182727 bytes to notebooks/test_rectangular_windows.nbconvert.nbconvert.ipynb\n"
     ]
    },
    {
     "name": "stdout",
     "output_type": "stream",
     "text": [
      "./notebooks/extended_search_area_vectorized.ipynb\n"
     ]
    },
    {
     "name": "stderr",
     "output_type": "stream",
     "text": [
      "[NbConvertApp] Converting notebook ./notebooks/extended_search_area_vectorized.ipynb to notebook\n",
      "[NbConvertApp] Writing 185720 bytes to notebooks/extended_search_area_vectorized.nbconvert.ipynb\n"
     ]
    },
    {
     "name": "stdout",
     "output_type": "stream",
     "text": [
      "./notebooks/active_nematics.ipynb\n"
     ]
    },
    {
     "name": "stderr",
     "output_type": "stream",
     "text": [
      "[NbConvertApp] Converting notebook ./notebooks/active_nematics.ipynb to notebook\n",
      "[NbConvertApp] Writing 54235956 bytes to notebooks/active_nematics.nbconvert.ipynb\n"
     ]
    },
    {
     "name": "stdout",
     "output_type": "stream",
     "text": [
      "./notebooks/test20_multipass.ipynb\n"
     ]
    },
    {
     "name": "stderr",
     "output_type": "stream",
     "text": [
      "[NbConvertApp] Converting notebook ./notebooks/test20_multipass.ipynb to notebook\n",
      "[NbConvertApp] Writing 1090322 bytes to notebooks/test20_multipass.nbconvert.ipynb\n"
     ]
    },
    {
     "name": "stdout",
     "output_type": "stream",
     "text": [
      "./notebooks/dynamic_masking.nbconvert.nbconvert.ipynb\n"
     ]
    },
    {
     "name": "stderr",
     "output_type": "stream",
     "text": [
      "[NbConvertApp] Converting notebook ./notebooks/dynamic_masking.nbconvert.nbconvert.ipynb to notebook\n",
      "[NbConvertApp] Writing 1517064 bytes to notebooks/dynamic_masking.nbconvert.nbconvert.nbconvert.ipynb\n"
     ]
    },
    {
     "name": "stdout",
     "output_type": "stream",
     "text": [
      "./notebooks/active_nematics.nbconvert.ipynb\n"
     ]
    },
    {
     "name": "stderr",
     "output_type": "stream",
     "text": [
      "[NbConvertApp] Converting notebook ./notebooks/active_nematics.nbconvert.ipynb to notebook\n",
      "[NbConvertApp] Writing 54235956 bytes to notebooks/active_nematics.nbconvert.nbconvert.ipynb\n"
     ]
    },
    {
     "name": "stdout",
     "output_type": "stream",
     "text": [
      "./notebooks/test20.nbconvert.ipynb\n"
     ]
    },
    {
     "name": "stderr",
     "output_type": "stream",
     "text": [
      "[NbConvertApp] Converting notebook ./notebooks/test20.nbconvert.ipynb to notebook\n",
      "[NbConvertApp] Writing 1505979 bytes to notebooks/test20.nbconvert.nbconvert.ipynb\n"
     ]
    },
    {
     "name": "stdout",
     "output_type": "stream",
     "text": [
      "./notebooks/test_number_iterations.nbconvert.ipynb\n"
     ]
    },
    {
     "name": "stderr",
     "output_type": "stream",
     "text": [
      "[NbConvertApp] Converting notebook ./notebooks/test_number_iterations.nbconvert.ipynb to notebook\n",
      "[NbConvertApp] Writing 732999 bytes to notebooks/test_number_iterations.nbconvert.nbconvert.ipynb\n"
     ]
    },
    {
     "name": "stdout",
     "output_type": "stream",
     "text": [
      "./notebooks/ensemble_correlation.nbconvert.ipynb\n"
     ]
    },
    {
     "name": "stderr",
     "output_type": "stream",
     "text": [
      "[NbConvertApp] Converting notebook ./notebooks/ensemble_correlation.nbconvert.ipynb to notebook\n",
      "[NbConvertApp] Writing 1388845 bytes to notebooks/ensemble_correlation.nbconvert.nbconvert.ipynb\n"
     ]
    },
    {
     "name": "stdout",
     "output_type": "stream",
     "text": [
      "./notebooks/pyprocess_test.ipynb\n"
     ]
    },
    {
     "name": "stderr",
     "output_type": "stream",
     "text": [
      "[NbConvertApp] Converting notebook ./notebooks/pyprocess_test.ipynb to notebook\n",
      "[NbConvertApp] Writing 1527868 bytes to notebooks/pyprocess_test.nbconvert.ipynb\n"
     ]
    },
    {
     "name": "stdout",
     "output_type": "stream",
     "text": [
      "./notebooks/test20_windef.ipynb\n"
     ]
    },
    {
     "name": "stderr",
     "output_type": "stream",
     "text": [
      "[NbConvertApp] Converting notebook ./notebooks/test20_windef.ipynb to notebook\n",
      "[NbConvertApp] Writing 3588710 bytes to notebooks/test20_windef.nbconvert.ipynb\n"
     ]
    },
    {
     "name": "stdout",
     "output_type": "stream",
     "text": [
      "./notebooks/compare_correlations_algorithms.ipynb\n"
     ]
    },
    {
     "name": "stderr",
     "output_type": "stream",
     "text": [
      "[NbConvertApp] Converting notebook ./notebooks/compare_correlations_algorithms.ipynb to notebook\n",
      "[NbConvertApp] Writing 729911 bytes to notebooks/compare_correlations_algorithms.nbconvert.ipynb\n"
     ]
    },
    {
     "name": "stdout",
     "output_type": "stream",
     "text": [
      "./notebooks/bacteria_in_a_circle.ipynb\n"
     ]
    },
    {
     "name": "stderr",
     "output_type": "stream",
     "text": [
      "[NbConvertApp] Converting notebook ./notebooks/bacteria_in_a_circle.ipynb to notebook\n",
      "[NbConvertApp] Writing 2104700 bytes to notebooks/bacteria_in_a_circle.nbconvert.ipynb\n"
     ]
    },
    {
     "name": "stdout",
     "output_type": "stream",
     "text": [
      "./notebooks/compare_median_filters.ipynb\n"
     ]
    },
    {
     "name": "stderr",
     "output_type": "stream",
     "text": [
      "[NbConvertApp] Converting notebook ./notebooks/compare_median_filters.ipynb to notebook\n",
      "Traceback (most recent call last):\n",
      "  File \"/home/user/Documents/GitHub/openpiv-python-examples/.venv/lib/python3.11/site-packages/jupyter_core/utils/__init__.py\", line 154, in wrapped\n",
      "    asyncio.get_running_loop()\n",
      "RuntimeError: no running event loop\n",
      "\n",
      "During handling of the above exception, another exception occurred:\n",
      "\n",
      "Traceback (most recent call last):\n",
      "  File \"/home/user/Documents/GitHub/openpiv-python-examples/.venv/bin/jupyter-nbconvert\", line 10, in <module>\n",
      "    sys.exit(main())\n",
      "             ^^^^^^\n",
      "  File \"/home/user/Documents/GitHub/openpiv-python-examples/.venv/lib/python3.11/site-packages/jupyter_core/application.py\", line 284, in launch_instance\n",
      "    super().launch_instance(argv=argv, **kwargs)\n",
      "  File \"/home/user/Documents/GitHub/openpiv-python-examples/.venv/lib/python3.11/site-packages/traitlets/config/application.py\", line 1075, in launch_instance\n",
      "    app.start()\n",
      "  File \"/home/user/Documents/GitHub/openpiv-python-examples/.venv/lib/python3.11/site-packages/nbconvert/nbconvertapp.py\", line 420, in start\n",
      "    self.convert_notebooks()\n",
      "  File \"/home/user/Documents/GitHub/openpiv-python-examples/.venv/lib/python3.11/site-packages/nbconvert/nbconvertapp.py\", line 597, in convert_notebooks\n",
      "    self.convert_single_notebook(notebook_filename)\n",
      "  File \"/home/user/Documents/GitHub/openpiv-python-examples/.venv/lib/python3.11/site-packages/nbconvert/nbconvertapp.py\", line 563, in convert_single_notebook\n",
      "    output, resources = self.export_single_notebook(\n",
      "                        ^^^^^^^^^^^^^^^^^^^^^^^^^^^^\n",
      "  File \"/home/user/Documents/GitHub/openpiv-python-examples/.venv/lib/python3.11/site-packages/nbconvert/nbconvertapp.py\", line 487, in export_single_notebook\n",
      "    output, resources = self.exporter.from_filename(\n",
      "                        ^^^^^^^^^^^^^^^^^^^^^^^^^^^^\n",
      "  File \"/home/user/Documents/GitHub/openpiv-python-examples/.venv/lib/python3.11/site-packages/nbconvert/exporters/exporter.py\", line 201, in from_filename\n",
      "    return self.from_file(f, resources=resources, **kw)\n",
      "           ^^^^^^^^^^^^^^^^^^^^^^^^^^^^^^^^^^^^^^^^^^^^\n",
      "  File \"/home/user/Documents/GitHub/openpiv-python-examples/.venv/lib/python3.11/site-packages/nbconvert/exporters/exporter.py\", line 220, in from_file\n",
      "    return self.from_notebook_node(\n",
      "           ^^^^^^^^^^^^^^^^^^^^^^^^\n",
      "  File \"/home/user/Documents/GitHub/openpiv-python-examples/.venv/lib/python3.11/site-packages/nbconvert/exporters/notebook.py\", line 36, in from_notebook_node\n",
      "    nb_copy, resources = super().from_notebook_node(nb, resources, **kw)\n",
      "                         ^^^^^^^^^^^^^^^^^^^^^^^^^^^^^^^^^^^^^^^^^^^^^^^\n",
      "  File \"/home/user/Documents/GitHub/openpiv-python-examples/.venv/lib/python3.11/site-packages/nbconvert/exporters/exporter.py\", line 154, in from_notebook_node\n",
      "    nb_copy, resources = self._preprocess(nb_copy, resources)\n",
      "                         ^^^^^^^^^^^^^^^^^^^^^^^^^^^^^^^^^^^^\n",
      "  File \"/home/user/Documents/GitHub/openpiv-python-examples/.venv/lib/python3.11/site-packages/nbconvert/exporters/exporter.py\", line 353, in _preprocess\n",
      "    nbc, resc = preprocessor(nbc, resc)\n",
      "                ^^^^^^^^^^^^^^^^^^^^^^^\n",
      "  File \"/home/user/Documents/GitHub/openpiv-python-examples/.venv/lib/python3.11/site-packages/nbconvert/preprocessors/base.py\", line 48, in __call__\n",
      "    return self.preprocess(nb, resources)\n",
      "           ^^^^^^^^^^^^^^^^^^^^^^^^^^^^^^\n",
      "  File \"/home/user/Documents/GitHub/openpiv-python-examples/.venv/lib/python3.11/site-packages/nbconvert/preprocessors/execute.py\", line 103, in preprocess\n",
      "    self.preprocess_cell(cell, resources, index)\n",
      "  File \"/home/user/Documents/GitHub/openpiv-python-examples/.venv/lib/python3.11/site-packages/nbconvert/preprocessors/execute.py\", line 124, in preprocess_cell\n",
      "    cell = self.execute_cell(cell, index, store_history=True)\n",
      "           ^^^^^^^^^^^^^^^^^^^^^^^^^^^^^^^^^^^^^^^^^^^^^^^^^^\n",
      "  File \"/home/user/Documents/GitHub/openpiv-python-examples/.venv/lib/python3.11/site-packages/jupyter_core/utils/__init__.py\", line 158, in wrapped\n",
      "    return loop.run_until_complete(inner)\n",
      "           ^^^^^^^^^^^^^^^^^^^^^^^^^^^^^^\n",
      "  File \"/home/user/.local/share/uv/python/cpython-3.11.13-linux-x86_64-gnu/lib/python3.11/asyncio/base_events.py\", line 654, in run_until_complete\n",
      "    return future.result()\n",
      "           ^^^^^^^^^^^^^^^\n",
      "  File \"/home/user/Documents/GitHub/openpiv-python-examples/.venv/lib/python3.11/site-packages/nbclient/client.py\", line 1062, in async_execute_cell\n",
      "    await self._check_raise_for_error(cell, cell_index, exec_reply)\n",
      "  File \"/home/user/Documents/GitHub/openpiv-python-examples/.venv/lib/python3.11/site-packages/nbclient/client.py\", line 918, in _check_raise_for_error\n",
      "    raise CellExecutionError.from_cell_and_msg(cell, exec_reply_content)\n",
      "nbclient.exceptions.CellExecutionError: An error occurred while executing the following cell:\n",
      "------------------\n",
      "print(\"Using normalized 2005 Westerweel's median filter with one run:\\n\")\n",
      "PIVanalysis(dataArray = pairPIV, \n",
      "            imageShape = imageShape, \n",
      "            searchAreaSize = searchAS,\n",
      "            overlap = ol,\n",
      "            scalingFactor = sf,\n",
      "            deltaT = tPulse,\n",
      "            maskBubble = bubblesMask,\n",
      "            nameTXT = fileTXT,\n",
      "            medianTest = 2005,\n",
      "            numRuns = 1,\n",
      "            s2nThresh = 2, \n",
      "            onImg = bubblesMaskFile                 \n",
      ")\n",
      "------------------\n",
      "\n",
      "----- stdout -----\n",
      "Using normalized 2005 Westerweel's median filter with one run:\n",
      "------------------\n",
      "\n",
      "\u001b[31m---------------------------------------------------------------------------\u001b[39m\n",
      "\u001b[31mAttributeError\u001b[39m                            Traceback (most recent call last)\n",
      "\u001b[36mCell\u001b[39m\u001b[36m \u001b[39m\u001b[32mIn[5]\u001b[39m\u001b[32m, line 2\u001b[39m\n",
      "\u001b[32m      1\u001b[39m \u001b[38;5;28mprint\u001b[39m(\u001b[33m\"\u001b[39m\u001b[33mUsing normalized 2005 Westerweel\u001b[39m\u001b[33m'\u001b[39m\u001b[33ms median filter with one run:\u001b[39m\u001b[38;5;130;01m\\n\u001b[39;00m\u001b[33m\"\u001b[39m)\n",
      "\u001b[32m----> \u001b[39m\u001b[32m2\u001b[39m \u001b[43mPIVanalysis\u001b[49m\u001b[43m(\u001b[49m\u001b[43mdataArray\u001b[49m\u001b[43m \u001b[49m\u001b[43m=\u001b[49m\u001b[43m \u001b[49m\u001b[43mpairPIV\u001b[49m\u001b[43m,\u001b[49m\u001b[43m \u001b[49m\n",
      "\u001b[32m      3\u001b[39m \u001b[43m            \u001b[49m\u001b[43mimageShape\u001b[49m\u001b[43m \u001b[49m\u001b[43m=\u001b[49m\u001b[43m \u001b[49m\u001b[43mimageShape\u001b[49m\u001b[43m,\u001b[49m\u001b[43m \u001b[49m\n",
      "\u001b[32m      4\u001b[39m \u001b[43m            \u001b[49m\u001b[43msearchAreaSize\u001b[49m\u001b[43m \u001b[49m\u001b[43m=\u001b[49m\u001b[43m \u001b[49m\u001b[43msearchAS\u001b[49m\u001b[43m,\u001b[49m\n",
      "\u001b[32m      5\u001b[39m \u001b[43m            \u001b[49m\u001b[43moverlap\u001b[49m\u001b[43m \u001b[49m\u001b[43m=\u001b[49m\u001b[43m \u001b[49m\u001b[43mol\u001b[49m\u001b[43m,\u001b[49m\n",
      "\u001b[32m      6\u001b[39m \u001b[43m            \u001b[49m\u001b[43mscalingFactor\u001b[49m\u001b[43m \u001b[49m\u001b[43m=\u001b[49m\u001b[43m \u001b[49m\u001b[43msf\u001b[49m\u001b[43m,\u001b[49m\n",
      "\u001b[32m      7\u001b[39m \u001b[43m            \u001b[49m\u001b[43mdeltaT\u001b[49m\u001b[43m \u001b[49m\u001b[43m=\u001b[49m\u001b[43m \u001b[49m\u001b[43mtPulse\u001b[49m\u001b[43m,\u001b[49m\n",
      "\u001b[32m      8\u001b[39m \u001b[43m            \u001b[49m\u001b[43mmaskBubble\u001b[49m\u001b[43m \u001b[49m\u001b[43m=\u001b[49m\u001b[43m \u001b[49m\u001b[43mbubblesMask\u001b[49m\u001b[43m,\u001b[49m\n",
      "\u001b[32m      9\u001b[39m \u001b[43m            \u001b[49m\u001b[43mnameTXT\u001b[49m\u001b[43m \u001b[49m\u001b[43m=\u001b[49m\u001b[43m \u001b[49m\u001b[43mfileTXT\u001b[49m\u001b[43m,\u001b[49m\n",
      "\u001b[32m     10\u001b[39m \u001b[43m            \u001b[49m\u001b[43mmedianTest\u001b[49m\u001b[43m \u001b[49m\u001b[43m=\u001b[49m\u001b[43m \u001b[49m\u001b[32;43m2005\u001b[39;49m\u001b[43m,\u001b[49m\n",
      "\u001b[32m     11\u001b[39m \u001b[43m            \u001b[49m\u001b[43mnumRuns\u001b[49m\u001b[43m \u001b[49m\u001b[43m=\u001b[49m\u001b[43m \u001b[49m\u001b[32;43m1\u001b[39;49m\u001b[43m,\u001b[49m\n",
      "\u001b[32m     12\u001b[39m \u001b[43m            \u001b[49m\u001b[43ms2nThresh\u001b[49m\u001b[43m \u001b[49m\u001b[43m=\u001b[49m\u001b[43m \u001b[49m\u001b[32;43m2\u001b[39;49m\u001b[43m,\u001b[49m\u001b[43m \u001b[49m\n",
      "\u001b[32m     13\u001b[39m \u001b[43m            \u001b[49m\u001b[43monImg\u001b[49m\u001b[43m \u001b[49m\u001b[43m=\u001b[49m\u001b[43m \u001b[49m\u001b[43mbubblesMaskFile\u001b[49m\u001b[43m                 \u001b[49m\n",
      "\u001b[32m     14\u001b[39m \u001b[43m)\u001b[49m\n",
      "\n",
      "\u001b[36mCell\u001b[39m\u001b[36m \u001b[39m\u001b[32mIn[2]\u001b[39m\u001b[32m, line 153\u001b[39m, in \u001b[36mPIVanalysis\u001b[39m\u001b[34m(dataArray, imageShape, searchAreaSize, overlap, scalingFactor, deltaT, maskBubble, nameTXT, medianTest, numRuns, onImg, s2nThresh)\u001b[39m\n",
      "\u001b[32m    123\u001b[39m     masked_u, masked_v = filters.replace_outliers(masked_u.flatten(), masked_v.flatten(),\n",
      "\u001b[32m    124\u001b[39m                                                   invalid_mask_median.flatten(),\n",
      "\u001b[32m    125\u001b[39m                                                   method = \u001b[33m'\u001b[39m\u001b[33mlocalmean\u001b[39m\u001b[33m'\u001b[39m,\n",
      "\u001b[32m    126\u001b[39m                                                   max_iter = \u001b[32m5\u001b[39m, \n",
      "\u001b[32m    127\u001b[39m                                                   kernel_size = \u001b[32m2\u001b[39m  \n",
      "\u001b[32m    128\u001b[39m     ) \u001b[38;5;66;03m# IMPORTANT to flatten u and v\u001b[39;00m\n",
      "\u001b[32m    129\u001b[39m \u001b[38;5;28;01melif\u001b[39;00m medianTest == \u001b[32m2005\u001b[39m:\n",
      "\u001b[32m    130\u001b[39m     \u001b[38;5;66;03m# NORMALIZED WESTERWEEL'S MEDIAN TEST.\u001b[39;00m\n",
      "\u001b[32m    131\u001b[39m     \u001b[38;5;66;03m# One doesn't have to restrict oneself to just one instance of the median test.\u001b[39;00m\n",
      "\u001b[32m   (...)\u001b[39m\u001b[32m    151\u001b[39m \n",
      "\u001b[32m    152\u001b[39m     \u001b[38;5;66;03m# Do the first run of the median test. \u001b[39;00m\n",
      "\u001b[32m--> \u001b[39m\u001b[32m153\u001b[39m     invalid_mask_median1 = \u001b[43mvalidation\u001b[49m\u001b[43m.\u001b[49m\u001b[43mlocal_norm_median_val\u001b[49m(masked_u,\n",
      "\u001b[32m    154\u001b[39m                                                             masked_v,\n",
      "\u001b[32m    155\u001b[39m                                                             ε = \u001b[32m0.2\u001b[39m,\n",
      "\u001b[32m    156\u001b[39m                                                             threshold = \u001b[32m2.5\u001b[39m,\n",
      "\u001b[32m    157\u001b[39m                                                             size = \u001b[32m2\u001b[39m\n",
      "\u001b[32m    158\u001b[39m     )\n",
      "\u001b[32m    159\u001b[39m     \u001b[38;5;66;03m# Now we can replace outliers flagged by the invalid_mask_median1.        \u001b[39;00m\n",
      "\u001b[32m    160\u001b[39m     masked_u, masked_v = filters.replace_outliers(masked_u.flatten(), masked_v.flatten(),\n",
      "\u001b[32m    161\u001b[39m                                                   invalid_mask_median1.flatten(),\n",
      "\u001b[32m    162\u001b[39m                                                   method = \u001b[33m'\u001b[39m\u001b[33mlocalmean\u001b[39m\u001b[33m'\u001b[39m,\n",
      "\u001b[32m    163\u001b[39m                                                   max_iter = \u001b[32m5\u001b[39m, \n",
      "\u001b[32m    164\u001b[39m                                                   kernel_size = \u001b[32m2\u001b[39m \n",
      "\u001b[32m    165\u001b[39m     ) \u001b[38;5;66;03m# IMPORTANT to flatten u and v\u001b[39;00m\n",
      "\n",
      "\u001b[31mAttributeError\u001b[39m: module 'openpiv.validation' has no attribute 'local_norm_median_val'\n",
      "\n"
     ]
    },
    {
     "name": "stdout",
     "output_type": "stream",
     "text": [
      "./notebooks/analyse_movie.nbconvert.nbconvert.ipynb\n"
     ]
    },
    {
     "name": "stderr",
     "output_type": "stream",
     "text": [
      "[NbConvertApp] Converting notebook ./notebooks/analyse_movie.nbconvert.nbconvert.ipynb to notebook\n",
      "[NbConvertApp] Writing 824606 bytes to notebooks/analyse_movie.nbconvert.nbconvert.nbconvert.ipynb\n"
     ]
    },
    {
     "name": "stdout",
     "output_type": "stream",
     "text": [
      "./notebooks/vonKarman_openpiv_11_maps.nbconvert.ipynb\n"
     ]
    },
    {
     "name": "stderr",
     "output_type": "stream",
     "text": [
      "[NbConvertApp] Converting notebook ./notebooks/vonKarman_openpiv_11_maps.nbconvert.ipynb to notebook\n",
      "[NbConvertApp] Writing 8619549 bytes to notebooks/vonKarman_openpiv_11_maps.nbconvert.nbconvert.ipynb\n"
     ]
    },
    {
     "name": "stdout",
     "output_type": "stream",
     "text": [
      "./notebooks/vonKarman_pivlab_with_openpiv.ipynb\n"
     ]
    },
    {
     "name": "stderr",
     "output_type": "stream",
     "text": [
      "[NbConvertApp] Converting notebook ./notebooks/vonKarman_pivlab_with_openpiv.ipynb to notebook\n",
      "[NbConvertApp] Writing 5792075 bytes to notebooks/vonKarman_pivlab_with_openpiv.nbconvert.ipynb\n"
     ]
    },
    {
     "name": "stdout",
     "output_type": "stream",
     "text": [
      "./notebooks/test_number_iterations.ipynb\n"
     ]
    },
    {
     "name": "stderr",
     "output_type": "stream",
     "text": [
      "[NbConvertApp] Converting notebook ./notebooks/test_number_iterations.ipynb to notebook\n",
      "[NbConvertApp] Writing 732999 bytes to notebooks/test_number_iterations.nbconvert.ipynb\n"
     ]
    },
    {
     "name": "stdout",
     "output_type": "stream",
     "text": [
      "./notebooks/window_deformation_comparison.ipynb\n"
     ]
    },
    {
     "name": "stderr",
     "output_type": "stream",
     "text": [
      "[NbConvertApp] Converting notebook ./notebooks/window_deformation_comparison.ipynb to notebook\n",
      "[NbConvertApp] Writing 41217 bytes to notebooks/window_deformation_comparison.nbconvert.ipynb\n"
     ]
    },
    {
     "name": "stdout",
     "output_type": "stream",
     "text": [
      "./notebooks/example_normalized_correlation_effect.ipynb\n"
     ]
    },
    {
     "name": "stderr",
     "output_type": "stream",
     "text": [
      "[NbConvertApp] Converting notebook ./notebooks/example_normalized_correlation_effect.ipynb to notebook\n",
      "[NbConvertApp] Writing 539836 bytes to notebooks/example_normalized_correlation_effect.nbconvert.ipynb\n"
     ]
    },
    {
     "name": "stdout",
     "output_type": "stream",
     "text": [
      "./notebooks/all_test_cases_sample.ipynb\n"
     ]
    },
    {
     "name": "stderr",
     "output_type": "stream",
     "text": [
      "[NbConvertApp] Converting notebook ./notebooks/all_test_cases_sample.ipynb to notebook\n",
      "[NbConvertApp] Writing 20239176 bytes to notebooks/all_test_cases_sample.nbconvert.ipynb\n"
     ]
    },
    {
     "name": "stdout",
     "output_type": "stream",
     "text": [
      "./notebooks/pyprocess_test.nbconvert.ipynb\n"
     ]
    },
    {
     "name": "stderr",
     "output_type": "stream",
     "text": [
      "[NbConvertApp] Converting notebook ./notebooks/pyprocess_test.nbconvert.ipynb to notebook\n",
      "[NbConvertApp] Writing 1527868 bytes to notebooks/pyprocess_test.nbconvert.nbconvert.ipynb\n"
     ]
    },
    {
     "name": "stdout",
     "output_type": "stream",
     "text": [
      "./notebooks/pyprocess_correlations.nbconvert.ipynb\n"
     ]
    },
    {
     "name": "stderr",
     "output_type": "stream",
     "text": [
      "[NbConvertApp] Converting notebook ./notebooks/pyprocess_correlations.nbconvert.ipynb to notebook\n",
      "[NbConvertApp] Writing 895987 bytes to notebooks/pyprocess_correlations.nbconvert.nbconvert.ipynb\n"
     ]
    },
    {
     "name": "stdout",
     "output_type": "stream",
     "text": [
      "./notebooks/bacteria_in_a_circle.nbconvert.nbconvert.ipynb\n"
     ]
    },
    {
     "name": "stderr",
     "output_type": "stream",
     "text": [
      "[NbConvertApp] Converting notebook ./notebooks/bacteria_in_a_circle.nbconvert.nbconvert.ipynb to notebook\n",
      "[NbConvertApp] Writing 2104700 bytes to notebooks/bacteria_in_a_circle.nbconvert.nbconvert.nbconvert.ipynb\n"
     ]
    },
    {
     "name": "stdout",
     "output_type": "stream",
     "text": [
      "./notebooks/test_rectangular_windows.ipynb\n"
     ]
    },
    {
     "name": "stderr",
     "output_type": "stream",
     "text": [
      "[NbConvertApp] Converting notebook ./notebooks/test_rectangular_windows.ipynb to notebook\n",
      "[NbConvertApp] Writing 182727 bytes to notebooks/test_rectangular_windows.nbconvert.ipynb\n"
     ]
    },
    {
     "name": "stdout",
     "output_type": "stream",
     "text": [
      "./notebooks/test_vectorized_functions.nbconvert.ipynb\n"
     ]
    },
    {
     "name": "stderr",
     "output_type": "stream",
     "text": [
      "[NbConvertApp] Converting notebook ./notebooks/test_vectorized_functions.nbconvert.ipynb to notebook\n",
      "[NbConvertApp] Writing 270305 bytes to notebooks/test_vectorized_functions.nbconvert.nbconvert.ipynb\n"
     ]
    },
    {
     "name": "stdout",
     "output_type": "stream",
     "text": [
      "./notebooks/openpiv_bridgepile_wake.nbconvert.ipynb\n"
     ]
    },
    {
     "name": "stderr",
     "output_type": "stream",
     "text": [
      "[NbConvertApp] Converting notebook ./notebooks/openpiv_bridgepile_wake.nbconvert.ipynb to notebook\n",
      "[NbConvertApp] Writing 2969384 bytes to notebooks/openpiv_bridgepile_wake.nbconvert.nbconvert.ipynb\n"
     ]
    },
    {
     "name": "stdout",
     "output_type": "stream",
     "text": [
      "./notebooks/preprocessing_filters.nbconvert.ipynb\n"
     ]
    },
    {
     "name": "stderr",
     "output_type": "stream",
     "text": [
      "[NbConvertApp] Converting notebook ./notebooks/preprocessing_filters.nbconvert.ipynb to notebook\n",
      "[NbConvertApp] Writing 6671811 bytes to notebooks/preprocessing_filters.nbconvert.nbconvert.ipynb\n"
     ]
    },
    {
     "name": "stdout",
     "output_type": "stream",
     "text": [
      "./notebooks/test20_multipass.nbconvert.nbconvert.ipynb\n"
     ]
    },
    {
     "name": "stderr",
     "output_type": "stream",
     "text": [
      "[NbConvertApp] Converting notebook ./notebooks/test20_multipass.nbconvert.nbconvert.ipynb to notebook\n",
      "[NbConvertApp] Writing 1090322 bytes to notebooks/test20_multipass.nbconvert.nbconvert.nbconvert.ipynb\n"
     ]
    },
    {
     "name": "stdout",
     "output_type": "stream",
     "text": [
      "./notebooks/preprocessing_filters.ipynb\n"
     ]
    },
    {
     "name": "stderr",
     "output_type": "stream",
     "text": [
      "[NbConvertApp] Converting notebook ./notebooks/preprocessing_filters.ipynb to notebook\n",
      "[NbConvertApp] Writing 6671811 bytes to notebooks/preprocessing_filters.nbconvert.ipynb\n"
     ]
    },
    {
     "name": "stdout",
     "output_type": "stream",
     "text": [
      "./notebooks/test_find_subpixel_position.ipynb\n"
     ]
    },
    {
     "name": "stderr",
     "output_type": "stream",
     "text": [
      "[NbConvertApp] Converting notebook ./notebooks/test_find_subpixel_position.ipynb to notebook\n",
      "[NbConvertApp] Writing 44986 bytes to notebooks/test_find_subpixel_position.nbconvert.ipynb\n"
     ]
    },
    {
     "name": "stdout",
     "output_type": "stream",
     "text": [
      "./notebooks/studying_correlations.nbconvert.ipynb\n"
     ]
    },
    {
     "name": "stderr",
     "output_type": "stream",
     "text": [
      "[NbConvertApp] Converting notebook ./notebooks/studying_correlations.nbconvert.ipynb to notebook\n",
      "[NbConvertApp] Writing 170146 bytes to notebooks/studying_correlations.nbconvert.nbconvert.ipynb\n"
     ]
    },
    {
     "name": "stdout",
     "output_type": "stream",
     "text": [
      "./notebooks/all_test_cases_sample.nbconvert.ipynb\n"
     ]
    },
    {
     "name": "stderr",
     "output_type": "stream",
     "text": [
      "[NbConvertApp] Converting notebook ./notebooks/all_test_cases_sample.nbconvert.ipynb to notebook\n",
      "[NbConvertApp] Writing 20239176 bytes to notebooks/all_test_cases_sample.nbconvert.nbconvert.ipynb\n"
     ]
    },
    {
     "name": "stdout",
     "output_type": "stream",
     "text": [
      "./notebooks/extended_search_area_vectorized.nbconvert.nbconvert.ipynb\n"
     ]
    },
    {
     "name": "stderr",
     "output_type": "stream",
     "text": [
      "[NbConvertApp] Converting notebook ./notebooks/extended_search_area_vectorized.nbconvert.nbconvert.ipynb to notebook\n",
      "[NbConvertApp] Writing 185720 bytes to notebooks/extended_search_area_vectorized.nbconvert.nbconvert.nbconvert.ipynb\n"
     ]
    },
    {
     "name": "stdout",
     "output_type": "stream",
     "text": [
      "./notebooks/PIV_3D_example.ipynb\n"
     ]
    },
    {
     "name": "stderr",
     "output_type": "stream",
     "text": [
      "[NbConvertApp] Converting notebook ./notebooks/PIV_3D_example.ipynb to notebook\n",
      "Traceback (most recent call last):\n",
      "  File \"/home/user/Documents/GitHub/openpiv-python-examples/.venv/lib/python3.11/site-packages/jupyter_core/utils/__init__.py\", line 154, in wrapped\n",
      "    asyncio.get_running_loop()\n",
      "RuntimeError: no running event loop\n",
      "\n",
      "During handling of the above exception, another exception occurred:\n",
      "\n",
      "Traceback (most recent call last):\n",
      "  File \"/home/user/Documents/GitHub/openpiv-python-examples/.venv/bin/jupyter-nbconvert\", line 10, in <module>\n",
      "    sys.exit(main())\n",
      "             ^^^^^^\n",
      "  File \"/home/user/Documents/GitHub/openpiv-python-examples/.venv/lib/python3.11/site-packages/jupyter_core/application.py\", line 284, in launch_instance\n",
      "    super().launch_instance(argv=argv, **kwargs)\n",
      "  File \"/home/user/Documents/GitHub/openpiv-python-examples/.venv/lib/python3.11/site-packages/traitlets/config/application.py\", line 1075, in launch_instance\n",
      "    app.start()\n",
      "  File \"/home/user/Documents/GitHub/openpiv-python-examples/.venv/lib/python3.11/site-packages/nbconvert/nbconvertapp.py\", line 420, in start\n",
      "    self.convert_notebooks()\n",
      "  File \"/home/user/Documents/GitHub/openpiv-python-examples/.venv/lib/python3.11/site-packages/nbconvert/nbconvertapp.py\", line 597, in convert_notebooks\n",
      "    self.convert_single_notebook(notebook_filename)\n",
      "  File \"/home/user/Documents/GitHub/openpiv-python-examples/.venv/lib/python3.11/site-packages/nbconvert/nbconvertapp.py\", line 563, in convert_single_notebook\n",
      "    output, resources = self.export_single_notebook(\n",
      "                        ^^^^^^^^^^^^^^^^^^^^^^^^^^^^\n",
      "  File \"/home/user/Documents/GitHub/openpiv-python-examples/.venv/lib/python3.11/site-packages/nbconvert/nbconvertapp.py\", line 487, in export_single_notebook\n",
      "    output, resources = self.exporter.from_filename(\n",
      "                        ^^^^^^^^^^^^^^^^^^^^^^^^^^^^\n",
      "  File \"/home/user/Documents/GitHub/openpiv-python-examples/.venv/lib/python3.11/site-packages/nbconvert/exporters/exporter.py\", line 201, in from_filename\n",
      "    return self.from_file(f, resources=resources, **kw)\n",
      "           ^^^^^^^^^^^^^^^^^^^^^^^^^^^^^^^^^^^^^^^^^^^^\n",
      "  File \"/home/user/Documents/GitHub/openpiv-python-examples/.venv/lib/python3.11/site-packages/nbconvert/exporters/exporter.py\", line 220, in from_file\n",
      "    return self.from_notebook_node(\n",
      "           ^^^^^^^^^^^^^^^^^^^^^^^^\n",
      "  File \"/home/user/Documents/GitHub/openpiv-python-examples/.venv/lib/python3.11/site-packages/nbconvert/exporters/notebook.py\", line 36, in from_notebook_node\n",
      "    nb_copy, resources = super().from_notebook_node(nb, resources, **kw)\n",
      "                         ^^^^^^^^^^^^^^^^^^^^^^^^^^^^^^^^^^^^^^^^^^^^^^^\n",
      "  File \"/home/user/Documents/GitHub/openpiv-python-examples/.venv/lib/python3.11/site-packages/nbconvert/exporters/exporter.py\", line 154, in from_notebook_node\n",
      "    nb_copy, resources = self._preprocess(nb_copy, resources)\n",
      "                         ^^^^^^^^^^^^^^^^^^^^^^^^^^^^^^^^^^^^\n",
      "  File \"/home/user/Documents/GitHub/openpiv-python-examples/.venv/lib/python3.11/site-packages/nbconvert/exporters/exporter.py\", line 353, in _preprocess\n",
      "    nbc, resc = preprocessor(nbc, resc)\n",
      "                ^^^^^^^^^^^^^^^^^^^^^^^\n",
      "  File \"/home/user/Documents/GitHub/openpiv-python-examples/.venv/lib/python3.11/site-packages/nbconvert/preprocessors/base.py\", line 48, in __call__\n",
      "    return self.preprocess(nb, resources)\n",
      "           ^^^^^^^^^^^^^^^^^^^^^^^^^^^^^^\n",
      "  File \"/home/user/Documents/GitHub/openpiv-python-examples/.venv/lib/python3.11/site-packages/nbconvert/preprocessors/execute.py\", line 103, in preprocess\n",
      "    self.preprocess_cell(cell, resources, index)\n",
      "  File \"/home/user/Documents/GitHub/openpiv-python-examples/.venv/lib/python3.11/site-packages/nbconvert/preprocessors/execute.py\", line 124, in preprocess_cell\n",
      "    cell = self.execute_cell(cell, index, store_history=True)\n",
      "           ^^^^^^^^^^^^^^^^^^^^^^^^^^^^^^^^^^^^^^^^^^^^^^^^^^\n",
      "  File \"/home/user/Documents/GitHub/openpiv-python-examples/.venv/lib/python3.11/site-packages/jupyter_core/utils/__init__.py\", line 158, in wrapped\n",
      "    return loop.run_until_complete(inner)\n",
      "           ^^^^^^^^^^^^^^^^^^^^^^^^^^^^^^\n",
      "  File \"/home/user/.local/share/uv/python/cpython-3.11.13-linux-x86_64-gnu/lib/python3.11/asyncio/base_events.py\", line 654, in run_until_complete\n",
      "    return future.result()\n",
      "           ^^^^^^^^^^^^^^^\n",
      "  File \"/home/user/Documents/GitHub/openpiv-python-examples/.venv/lib/python3.11/site-packages/nbclient/client.py\", line 1062, in async_execute_cell\n",
      "    await self._check_raise_for_error(cell, cell_index, exec_reply)\n",
      "  File \"/home/user/Documents/GitHub/openpiv-python-examples/.venv/lib/python3.11/site-packages/nbclient/client.py\", line 918, in _check_raise_for_error\n",
      "    raise CellExecutionError.from_cell_and_msg(cell, exec_reply_content)\n",
      "nbclient.exceptions.CellExecutionError: An error occurred while executing the following cell:\n",
      "------------------\n",
      "%pdb\n",
      "# displaying the shapes with 3D scatter plot\n",
      "fig1 = scatter_3D(shape1, control=\"size\")\n",
      "fig2 = scatter_3D(shape2, control=\"size\")\n",
      "# 3d plot of the signal-to-noise rations\n",
      "fig3 = scatter_3D(sig2noise, control=\"size\")\n",
      "# 3d quiver plot of the displacement field\n",
      "fig4 = quiver_3D(-u, v, w, cmap=\"coolwarm\", quiv_args={\"arrow_length_ratio\":0.6})\n",
      "------------------\n",
      "\n",
      "----- stdout -----\n",
      "Automatic pdb calling has been turned ON\n",
      "----- stdout -----\n",
      "> \u001b[32m/home/user/Documents/GitHub/openpiv-python-examples/.venv/lib/python3.11/site-packages/openpiv/PIV_3D_plotting.py\u001b[39m(\u001b[92m95\u001b[39m)\u001b[36mscatter_3D\u001b[39m\u001b[34m()\u001b[39m\n",
      "\u001b[32m     93\u001b[39m \n",
      "\u001b[32m     94\u001b[39m     \u001b[38;5;28;01mif\u001b[39;00m control == \u001b[33m\"size\"\u001b[39m:\n",
      "\u001b[32m---> 95\u001b[39m         sizes = (a - a.min()) * size / a.ptp()\n",
      "\u001b[32m     96\u001b[39m         ax.scatter(x, y, z, a, s=sizes, **scatter_args)\n",
      "\u001b[32m     97\u001b[39m         ax_scale = plt.axes([\u001b[32m0.88\u001b[39m, \u001b[32m0.1\u001b[39m, \u001b[32m0.05\u001b[39m, \u001b[32m0.7\u001b[39m])\n",
      "----- stdout -----\n",
      "> \u001b[32m/home/user/Documents/GitHub/openpiv-python-examples/.venv/lib/python3.11/site-packages/ipykernel/kernelbase.py\u001b[39m(\u001b[92m1259\u001b[39m)\u001b[36mraw_input\u001b[39m\u001b[34m()\u001b[39m\n",
      "\u001b[32m   1257\u001b[39m         \u001b[38;5;28;01mif\u001b[39;00m \u001b[38;5;28;01mnot\u001b[39;00m self._allow_stdin:\n",
      "\u001b[32m   1258\u001b[39m             msg = \u001b[33m\"raw_input was called, but this frontend does not support input requests.\"\u001b[39m\n",
      "\u001b[32m-> 1259\u001b[39m             \u001b[38;5;28;01mraise\u001b[39;00m StdinNotImplementedError(msg)\n",
      "\u001b[32m   1260\u001b[39m         return self._input_request(\n",
      "\u001b[32m   1261\u001b[39m             str(prompt),\n",
      "----- stdout -----\n",
      "> \u001b[32m/home/user/Documents/GitHub/openpiv-python-examples/.venv/lib/python3.11/site-packages/ipykernel/kernelbase.py\u001b[39m(\u001b[92m1259\u001b[39m)\u001b[36mraw_input\u001b[39m\u001b[34m()\u001b[39m\n",
      "\u001b[32m   1257\u001b[39m         \u001b[38;5;28;01mif\u001b[39;00m \u001b[38;5;28;01mnot\u001b[39;00m self._allow_stdin:\n",
      "\u001b[32m   1258\u001b[39m             msg = \u001b[33m\"raw_input was called, but this frontend does not support input requests.\"\u001b[39m\n",
      "\u001b[32m-> 1259\u001b[39m             \u001b[38;5;28;01mraise\u001b[39;00m StdinNotImplementedError(msg)\n",
      "\u001b[32m   1260\u001b[39m         return self._input_request(\n",
      "\u001b[32m   1261\u001b[39m             str(prompt),\n",
      "------------------\n",
      "\n",
      "\u001b[31m---------------------------------------------------------------------------\u001b[39m\n",
      "\u001b[31mAttributeError\u001b[39m                            Traceback (most recent call last)\n",
      "    \u001b[31m[... skipping hidden 1 frame]\u001b[39m\n",
      "\n",
      "\u001b[36mCell\u001b[39m\u001b[36m \u001b[39m\u001b[32mIn[8]\u001b[39m\u001b[32m, line 3\u001b[39m\n",
      "\u001b[32m      2\u001b[39m \u001b[38;5;66;03m# displaying the shapes with 3D scatter plot\u001b[39;00m\n",
      "\u001b[32m----> \u001b[39m\u001b[32m3\u001b[39m fig1 = \u001b[43mscatter_3D\u001b[49m\u001b[43m(\u001b[49m\u001b[43mshape1\u001b[49m\u001b[43m,\u001b[49m\u001b[43m \u001b[49m\u001b[43mcontrol\u001b[49m\u001b[43m=\u001b[49m\u001b[33;43m\"\u001b[39;49m\u001b[33;43msize\u001b[39;49m\u001b[33;43m\"\u001b[39;49m\u001b[43m)\u001b[49m\n",
      "\u001b[32m      4\u001b[39m fig2 = scatter_3D(shape2, control=\u001b[33m\"\u001b[39m\u001b[33msize\u001b[39m\u001b[33m\"\u001b[39m)\n",
      "\n",
      "\u001b[36mFile \u001b[39m\u001b[32m~/Documents/GitHub/openpiv-python-examples/.venv/lib/python3.11/site-packages/openpiv/PIV_3D_plotting.py:95\u001b[39m, in \u001b[36mscatter_3D\u001b[39m\u001b[34m(a, cmap, sca_args, control, size)\u001b[39m\n",
      "\u001b[32m     94\u001b[39m \u001b[38;5;28;01mif\u001b[39;00m control == \u001b[33m\"\u001b[39m\u001b[33msize\u001b[39m\u001b[33m\"\u001b[39m:\n",
      "\u001b[32m---> \u001b[39m\u001b[32m95\u001b[39m     sizes = (a - a.min()) * size / \u001b[43ma\u001b[49m\u001b[43m.\u001b[49m\u001b[43mptp\u001b[49m()\n",
      "\u001b[32m     96\u001b[39m     ax.scatter(x, y, z, a, s=sizes, **scatter_args)\n",
      "\n",
      "\u001b[31mAttributeError\u001b[39m: `ptp` was removed from the ndarray class in NumPy 2.0. Use np.ptp(arr, ...) instead.\n",
      "\n",
      "During handling of the above exception, another exception occurred:\n",
      "\n",
      "\u001b[31mStdinNotImplementedError\u001b[39m                  Traceback (most recent call last)\n",
      "\u001b[36mFile \u001b[39m\u001b[32m~/Documents/GitHub/openpiv-python-examples/.venv/lib/python3.11/site-packages/IPython/core/interactiveshell.py:3639\u001b[39m, in \u001b[36mInteractiveShell.run_ast_nodes\u001b[39m\u001b[34m(self, nodelist, cell_name, interactivity, compiler, result)\u001b[39m\n",
      "\u001b[32m   3638\u001b[39m     asy = compare(code)\n",
      "\u001b[32m-> \u001b[39m\u001b[32m3639\u001b[39m \u001b[38;5;28;01mif\u001b[39;00m \u001b[38;5;28;01mawait\u001b[39;00m \u001b[38;5;28mself\u001b[39m.run_code(code, result, async_=asy):\n",
      "\u001b[32m   3640\u001b[39m     \u001b[38;5;28;01mreturn\u001b[39;00m \u001b[38;5;28;01mTrue\u001b[39;00m\n",
      "\n",
      "    \u001b[31m[... skipping hidden 1 frame]\u001b[39m\n",
      "\n",
      "\u001b[36mFile \u001b[39m\u001b[32m~/Documents/GitHub/openpiv-python-examples/.venv/lib/python3.11/site-packages/IPython/core/interactiveshell.py:2208\u001b[39m, in \u001b[36mInteractiveShell.showtraceback\u001b[39m\u001b[34m(self, exc_tuple, filename, tb_offset, exception_only, running_compiled_code)\u001b[39m\n",
      "\u001b[32m   2206\u001b[39m \u001b[38;5;28;01mif\u001b[39;00m \u001b[38;5;28mself\u001b[39m.call_pdb:\n",
      "\u001b[32m   2207\u001b[39m     \u001b[38;5;66;03m# drop into debugger\u001b[39;00m\n",
      "\u001b[32m-> \u001b[39m\u001b[32m2208\u001b[39m     \u001b[38;5;28;43mself\u001b[39;49m\u001b[43m.\u001b[49m\u001b[43mdebugger\u001b[49m\u001b[43m(\u001b[49m\u001b[43mforce\u001b[49m\u001b[43m=\u001b[49m\u001b[38;5;28;43;01mTrue\u001b[39;49;00m\u001b[43m)\u001b[49m\n",
      "\u001b[32m   2209\u001b[39m \u001b[38;5;28;01mreturn\u001b[39;00m\n",
      "\n",
      "\u001b[36mFile \u001b[39m\u001b[32m~/Documents/GitHub/openpiv-python-examples/.venv/lib/python3.11/site-packages/IPython/core/interactiveshell.py:1214\u001b[39m, in \u001b[36mInteractiveShell.debugger\u001b[39m\u001b[34m(self, force)\u001b[39m\n",
      "\u001b[32m   1212\u001b[39m     \u001b[38;5;28;01mreturn\u001b[39;00m\n",
      "\u001b[32m-> \u001b[39m\u001b[32m1214\u001b[39m \u001b[38;5;28;43mself\u001b[39;49m\u001b[43m.\u001b[49m\u001b[43mInteractiveTB\u001b[49m\u001b[43m.\u001b[49m\u001b[43mdebugger\u001b[49m\u001b[43m(\u001b[49m\u001b[43mforce\u001b[49m\u001b[43m=\u001b[49m\u001b[38;5;28;43;01mTrue\u001b[39;49;00m\u001b[43m)\u001b[49m\n",
      "\n",
      "\u001b[36mFile \u001b[39m\u001b[32m~/Documents/GitHub/openpiv-python-examples/.venv/lib/python3.11/site-packages/IPython/core/ultratb.py:959\u001b[39m, in \u001b[36mVerboseTB.debugger\u001b[39m\u001b[34m(self, force)\u001b[39m\n",
      "\u001b[32m    958\u001b[39m \u001b[38;5;28;01mif\u001b[39;00m exc:\n",
      "\u001b[32m--> \u001b[39m\u001b[32m959\u001b[39m     \u001b[38;5;28;43mself\u001b[39;49m\u001b[43m.\u001b[49m\u001b[43mpdb\u001b[49m\u001b[43m.\u001b[49m\u001b[43minteraction\u001b[49m\u001b[43m(\u001b[49m\u001b[38;5;28;43;01mNone\u001b[39;49;00m\u001b[43m,\u001b[49m\u001b[43m \u001b[49m\u001b[43mexc\u001b[49m\u001b[43m)\u001b[49m\n",
      "\u001b[32m    960\u001b[39m \u001b[38;5;28;01melse\u001b[39;00m:\n",
      "\n",
      "\u001b[36mFile \u001b[39m\u001b[32m~/Documents/GitHub/openpiv-python-examples/.venv/lib/python3.11/site-packages/IPython/core/debugger.py:502\u001b[39m, in \u001b[36mPdb.interaction\u001b[39m\u001b[34m(self, frame, tb_or_exc)\u001b[39m\n",
      "\u001b[32m    501\u001b[39m     \u001b[38;5;28;01mwith\u001b[39;00m \u001b[38;5;28mself\u001b[39m._hold_exceptions(_chained_exceptions):\n",
      "\u001b[32m--> \u001b[39m\u001b[32m502\u001b[39m         \u001b[43mOldPdb\u001b[49m\u001b[43m.\u001b[49m\u001b[43minteraction\u001b[49m\u001b[43m(\u001b[49m\u001b[38;5;28;43mself\u001b[39;49m\u001b[43m,\u001b[49m\u001b[43m \u001b[49m\u001b[43mframe\u001b[49m\u001b[43m,\u001b[49m\u001b[43m \u001b[49m\u001b[43mtb\u001b[49m\u001b[43m)\u001b[49m\n",
      "\u001b[32m    503\u001b[39m \u001b[38;5;28;01melse\u001b[39;00m:\n",
      "\n",
      "\u001b[36mFile \u001b[39m\u001b[32m~/.local/share/uv/python/cpython-3.11.13-linux-x86_64-gnu/lib/python3.11/pdb.py:419\u001b[39m, in \u001b[36mPdb.interaction\u001b[39m\u001b[34m(self, frame, traceback)\u001b[39m\n",
      "\u001b[32m    418\u001b[39m     \u001b[38;5;28mself\u001b[39m.print_stack_entry(\u001b[38;5;28mself\u001b[39m.stack[\u001b[38;5;28mself\u001b[39m.curindex])\n",
      "\u001b[32m--> \u001b[39m\u001b[32m419\u001b[39m \u001b[38;5;28;43mself\u001b[39;49m\u001b[43m.\u001b[49m\u001b[43m_cmdloop\u001b[49m\u001b[43m(\u001b[49m\u001b[43m)\u001b[49m\n",
      "\u001b[32m    420\u001b[39m \u001b[38;5;28mself\u001b[39m.forget()\n",
      "\n",
      "\u001b[36mFile \u001b[39m\u001b[32m~/Documents/GitHub/openpiv-python-examples/.venv/lib/python3.11/site-packages/IPython/core/debugger.py:1233\u001b[39m, in \u001b[36mInterruptiblePdb._cmdloop\u001b[39m\u001b[34m(self)\u001b[39m\n",
      "\u001b[32m   1232\u001b[39m \u001b[38;5;28mself\u001b[39m.allow_kbdint = \u001b[38;5;28;01mTrue\u001b[39;00m\n",
      "\u001b[32m-> \u001b[39m\u001b[32m1233\u001b[39m \u001b[38;5;28;43mself\u001b[39;49m\u001b[43m.\u001b[49m\u001b[43mcmdloop\u001b[49m\u001b[43m(\u001b[49m\u001b[43m)\u001b[49m\n",
      "\u001b[32m   1234\u001b[39m \u001b[38;5;28mself\u001b[39m.allow_kbdint = \u001b[38;5;28;01mFalse\u001b[39;00m\n",
      "\n",
      "\u001b[36mFile \u001b[39m\u001b[32m~/Documents/GitHub/openpiv-python-examples/.venv/lib/python3.11/site-packages/IPython/core/debugger.py:1219\u001b[39m, in \u001b[36mInterruptiblePdb.cmdloop\u001b[39m\u001b[34m(self, intro)\u001b[39m\n",
      "\u001b[32m   1218\u001b[39m \u001b[38;5;28;01mtry\u001b[39;00m:\n",
      "\u001b[32m-> \u001b[39m\u001b[32m1219\u001b[39m     \u001b[38;5;28;01mreturn\u001b[39;00m \u001b[43mOldPdb\u001b[49m\u001b[43m.\u001b[49m\u001b[43mcmdloop\u001b[49m\u001b[43m(\u001b[49m\u001b[38;5;28;43mself\u001b[39;49m\u001b[43m,\u001b[49m\u001b[43m \u001b[49m\u001b[43mintro\u001b[49m\u001b[43m=\u001b[49m\u001b[43mintro\u001b[49m\u001b[43m)\u001b[49m\n",
      "\u001b[32m   1220\u001b[39m \u001b[38;5;28;01mexcept\u001b[39;00m \u001b[38;5;167;01mKeyboardInterrupt\u001b[39;00m:\n",
      "\n",
      "\u001b[36mFile \u001b[39m\u001b[32m~/.local/share/uv/python/cpython-3.11.13-linux-x86_64-gnu/lib/python3.11/cmd.py:126\u001b[39m, in \u001b[36mCmd.cmdloop\u001b[39m\u001b[34m(self, intro)\u001b[39m\n",
      "\u001b[32m    125\u001b[39m \u001b[38;5;28;01mtry\u001b[39;00m:\n",
      "\u001b[32m--> \u001b[39m\u001b[32m126\u001b[39m     line = \u001b[38;5;28;43minput\u001b[39;49m\u001b[43m(\u001b[49m\u001b[38;5;28;43mself\u001b[39;49m\u001b[43m.\u001b[49m\u001b[43mprompt\u001b[49m\u001b[43m)\u001b[49m\n",
      "\u001b[32m    127\u001b[39m \u001b[38;5;28;01mexcept\u001b[39;00m \u001b[38;5;167;01mEOFError\u001b[39;00m:\n",
      "\n",
      "\u001b[36mFile \u001b[39m\u001b[32m~/Documents/GitHub/openpiv-python-examples/.venv/lib/python3.11/site-packages/ipykernel/kernelbase.py:1259\u001b[39m, in \u001b[36mKernel.raw_input\u001b[39m\u001b[34m(self, prompt)\u001b[39m\n",
      "\u001b[32m   1258\u001b[39m     msg = \u001b[33m\"\u001b[39m\u001b[33mraw_input was called, but this frontend does not support input requests.\u001b[39m\u001b[33m\"\u001b[39m\n",
      "\u001b[32m-> \u001b[39m\u001b[32m1259\u001b[39m     \u001b[38;5;28;01mraise\u001b[39;00m StdinNotImplementedError(msg)\n",
      "\u001b[32m   1260\u001b[39m \u001b[38;5;28;01mreturn\u001b[39;00m \u001b[38;5;28mself\u001b[39m._input_request(\n",
      "\u001b[32m   1261\u001b[39m     \u001b[38;5;28mstr\u001b[39m(prompt),\n",
      "\u001b[32m   1262\u001b[39m     \u001b[38;5;28mself\u001b[39m._parent_ident[\u001b[33m\"\u001b[39m\u001b[33mshell\u001b[39m\u001b[33m\"\u001b[39m],\n",
      "\u001b[32m   1263\u001b[39m     \u001b[38;5;28mself\u001b[39m.get_parent(\u001b[33m\"\u001b[39m\u001b[33mshell\u001b[39m\u001b[33m\"\u001b[39m),\n",
      "\u001b[32m   1264\u001b[39m     password=\u001b[38;5;28;01mFalse\u001b[39;00m,\n",
      "\u001b[32m   1265\u001b[39m )\n",
      "\n",
      "\u001b[31mStdinNotImplementedError\u001b[39m: raw_input was called, but this frontend does not support input requests.\n",
      "\n",
      "During handling of the above exception, another exception occurred:\n",
      "\n",
      "\u001b[31mStdinNotImplementedError\u001b[39m                  Traceback (most recent call last)\n",
      "\u001b[36mFile \u001b[39m\u001b[32m~/Documents/GitHub/openpiv-python-examples/.venv/lib/python3.11/site-packages/IPython/core/async_helpers.py:128\u001b[39m, in \u001b[36m_pseudo_sync_runner\u001b[39m\u001b[34m(coro)\u001b[39m\n",
      "\u001b[32m    120\u001b[39m \u001b[38;5;250m\u001b[39m\u001b[33;03m\"\"\"\u001b[39;00m\n",
      "\u001b[32m    121\u001b[39m \u001b[33;03mA runner that does not really allow async execution, and just advance the coroutine.\u001b[39;00m\n",
      "\u001b[32m    122\u001b[39m \n",
      "\u001b[32m   (...)\u001b[39m\u001b[32m    125\u001b[39m \u001b[33;03mCredit to Nathaniel Smith\u001b[39;00m\n",
      "\u001b[32m    126\u001b[39m \u001b[33;03m\"\"\"\u001b[39;00m\n",
      "\u001b[32m    127\u001b[39m \u001b[38;5;28;01mtry\u001b[39;00m:\n",
      "\u001b[32m--> \u001b[39m\u001b[32m128\u001b[39m     coro.send(\u001b[38;5;28;01mNone\u001b[39;00m)\n",
      "\u001b[32m    129\u001b[39m \u001b[38;5;28;01mexcept\u001b[39;00m \u001b[38;5;167;01mStopIteration\u001b[39;00m \u001b[38;5;28;01mas\u001b[39;00m exc:\n",
      "\u001b[32m    130\u001b[39m     \u001b[38;5;28;01mreturn\u001b[39;00m exc.value\n",
      "\n",
      "\u001b[36mFile \u001b[39m\u001b[32m~/Documents/GitHub/openpiv-python-examples/.venv/lib/python3.11/site-packages/IPython/core/interactiveshell.py:3394\u001b[39m, in \u001b[36mInteractiveShell.run_cell_async\u001b[39m\u001b[34m(self, raw_cell, store_history, silent, shell_futures, transformed_cell, preprocessing_exc_tuple, cell_id)\u001b[39m\n",
      "\u001b[32m   3390\u001b[39m \u001b[38;5;66;03m# Execute the user code\u001b[39;00m\n",
      "\u001b[32m   3391\u001b[39m interactivity = \u001b[33m\"\u001b[39m\u001b[33mnone\u001b[39m\u001b[33m\"\u001b[39m \u001b[38;5;28;01mif\u001b[39;00m silent \u001b[38;5;28;01melse\u001b[39;00m \u001b[38;5;28mself\u001b[39m.ast_node_interactivity\n",
      "\u001b[32m-> \u001b[39m\u001b[32m3394\u001b[39m has_raised = \u001b[38;5;28;01mawait\u001b[39;00m \u001b[38;5;28mself\u001b[39m.run_ast_nodes(code_ast.body, cell_name,\n",
      "\u001b[32m   3395\u001b[39m        interactivity=interactivity, compiler=compiler, result=result)\n",
      "\u001b[32m   3397\u001b[39m \u001b[38;5;28mself\u001b[39m.last_execution_succeeded = \u001b[38;5;129;01mnot\u001b[39;00m has_raised\n",
      "\u001b[32m   3398\u001b[39m \u001b[38;5;28mself\u001b[39m.last_execution_result = result\n",
      "\n",
      "\u001b[36mFile \u001b[39m\u001b[32m~/Documents/GitHub/openpiv-python-examples/.venv/lib/python3.11/site-packages/IPython/core/interactiveshell.py:3658\u001b[39m, in \u001b[36mInteractiveShell.run_ast_nodes\u001b[39m\u001b[34m(self, nodelist, cell_name, interactivity, compiler, result)\u001b[39m\n",
      "\u001b[32m   3656\u001b[39m     \u001b[38;5;28;01mif\u001b[39;00m result:\n",
      "\u001b[32m   3657\u001b[39m         result.error_before_exec = sys.exc_info()[\u001b[32m1\u001b[39m]\n",
      "\u001b[32m-> \u001b[39m\u001b[32m3658\u001b[39m     \u001b[38;5;28;43mself\u001b[39;49m\u001b[43m.\u001b[49m\u001b[43mshowtraceback\u001b[49m\u001b[43m(\u001b[49m\u001b[43m)\u001b[49m\n",
      "\u001b[32m   3659\u001b[39m     \u001b[38;5;28;01mreturn\u001b[39;00m \u001b[38;5;28;01mTrue\u001b[39;00m\n",
      "\u001b[32m   3661\u001b[39m \u001b[38;5;28;01mreturn\u001b[39;00m \u001b[38;5;28;01mFalse\u001b[39;00m\n",
      "\n",
      "\u001b[36mFile \u001b[39m\u001b[32m~/Documents/GitHub/openpiv-python-examples/.venv/lib/python3.11/site-packages/IPython/core/interactiveshell.py:2208\u001b[39m, in \u001b[36mInteractiveShell.showtraceback\u001b[39m\u001b[34m(self, exc_tuple, filename, tb_offset, exception_only, running_compiled_code)\u001b[39m\n",
      "\u001b[32m   2205\u001b[39m         \u001b[38;5;28mself\u001b[39m._showtraceback(etype, value, stb)\n",
      "\u001b[32m   2206\u001b[39m     \u001b[38;5;28;01mif\u001b[39;00m \u001b[38;5;28mself\u001b[39m.call_pdb:\n",
      "\u001b[32m   2207\u001b[39m         \u001b[38;5;66;03m# drop into debugger\u001b[39;00m\n",
      "\u001b[32m-> \u001b[39m\u001b[32m2208\u001b[39m         \u001b[38;5;28;43mself\u001b[39;49m\u001b[43m.\u001b[49m\u001b[43mdebugger\u001b[49m\u001b[43m(\u001b[49m\u001b[43mforce\u001b[49m\u001b[43m=\u001b[49m\u001b[38;5;28;43;01mTrue\u001b[39;49;00m\u001b[43m)\u001b[49m\n",
      "\u001b[32m   2209\u001b[39m     \u001b[38;5;28;01mreturn\u001b[39;00m\n",
      "\u001b[32m   2211\u001b[39m \u001b[38;5;66;03m# Actually show the traceback\u001b[39;00m\n",
      "\n",
      "\u001b[36mFile \u001b[39m\u001b[32m~/Documents/GitHub/openpiv-python-examples/.venv/lib/python3.11/site-packages/IPython/core/interactiveshell.py:1214\u001b[39m, in \u001b[36mInteractiveShell.debugger\u001b[39m\u001b[34m(self, force)\u001b[39m\n",
      "\u001b[32m   1211\u001b[39m     error(\u001b[33m'\u001b[39m\u001b[33mNo traceback has been produced, nothing to debug.\u001b[39m\u001b[33m'\u001b[39m)\n",
      "\u001b[32m   1212\u001b[39m     \u001b[38;5;28;01mreturn\u001b[39;00m\n",
      "\u001b[32m-> \u001b[39m\u001b[32m1214\u001b[39m \u001b[38;5;28;43mself\u001b[39;49m\u001b[43m.\u001b[49m\u001b[43mInteractiveTB\u001b[49m\u001b[43m.\u001b[49m\u001b[43mdebugger\u001b[49m\u001b[43m(\u001b[49m\u001b[43mforce\u001b[49m\u001b[43m=\u001b[49m\u001b[38;5;28;43;01mTrue\u001b[39;49;00m\u001b[43m)\u001b[49m\n",
      "\n",
      "\u001b[36mFile \u001b[39m\u001b[32m~/Documents/GitHub/openpiv-python-examples/.venv/lib/python3.11/site-packages/IPython/core/ultratb.py:959\u001b[39m, in \u001b[36mVerboseTB.debugger\u001b[39m\u001b[34m(self, force)\u001b[39m\n",
      "\u001b[32m    953\u001b[39m exc = (\n",
      "\u001b[32m    954\u001b[39m     sys.last_value\n",
      "\u001b[32m    955\u001b[39m     \u001b[38;5;28;01mif\u001b[39;00m sys.version_info < (\u001b[32m3\u001b[39m, \u001b[32m12\u001b[39m)\n",
      "\u001b[32m    956\u001b[39m     \u001b[38;5;28;01melse\u001b[39;00m \u001b[38;5;28mgetattr\u001b[39m(sys, \u001b[33m\"\u001b[39m\u001b[33mlast_exc\u001b[39m\u001b[33m\"\u001b[39m, sys.last_value)\n",
      "\u001b[32m    957\u001b[39m )  \u001b[38;5;66;03m# type: ignore[attr-defined]\u001b[39;00m\n",
      "\u001b[32m    958\u001b[39m \u001b[38;5;28;01mif\u001b[39;00m exc:\n",
      "\u001b[32m--> \u001b[39m\u001b[32m959\u001b[39m     \u001b[38;5;28;43mself\u001b[39;49m\u001b[43m.\u001b[49m\u001b[43mpdb\u001b[49m\u001b[43m.\u001b[49m\u001b[43minteraction\u001b[49m\u001b[43m(\u001b[49m\u001b[38;5;28;43;01mNone\u001b[39;49;00m\u001b[43m,\u001b[49m\u001b[43m \u001b[49m\u001b[43mexc\u001b[49m\u001b[43m)\u001b[49m\n",
      "\u001b[32m    960\u001b[39m \u001b[38;5;28;01melse\u001b[39;00m:\n",
      "\u001b[32m    961\u001b[39m     \u001b[38;5;28mself\u001b[39m.pdb.interaction(\u001b[38;5;28;01mNone\u001b[39;00m, etb)\n",
      "\n",
      "\u001b[36mFile \u001b[39m\u001b[32m~/Documents/GitHub/openpiv-python-examples/.venv/lib/python3.11/site-packages/IPython/core/debugger.py:502\u001b[39m, in \u001b[36mPdb.interaction\u001b[39m\u001b[34m(self, frame, tb_or_exc)\u001b[39m\n",
      "\u001b[32m    500\u001b[39m         \u001b[38;5;28;01massert\u001b[39;00m tb \u001b[38;5;129;01mis\u001b[39;00m \u001b[38;5;129;01mnot\u001b[39;00m \u001b[38;5;28;01mNone\u001b[39;00m, \u001b[33m\"\u001b[39m\u001b[33mmain exception must have a traceback\u001b[39m\u001b[33m\"\u001b[39m\n",
      "\u001b[32m    501\u001b[39m     \u001b[38;5;28;01mwith\u001b[39;00m \u001b[38;5;28mself\u001b[39m._hold_exceptions(_chained_exceptions):\n",
      "\u001b[32m--> \u001b[39m\u001b[32m502\u001b[39m         \u001b[43mOldPdb\u001b[49m\u001b[43m.\u001b[49m\u001b[43minteraction\u001b[49m\u001b[43m(\u001b[49m\u001b[38;5;28;43mself\u001b[39;49m\u001b[43m,\u001b[49m\u001b[43m \u001b[49m\u001b[43mframe\u001b[49m\u001b[43m,\u001b[49m\u001b[43m \u001b[49m\u001b[43mtb\u001b[49m\u001b[43m)\u001b[49m\n",
      "\u001b[32m    503\u001b[39m \u001b[38;5;28;01melse\u001b[39;00m:\n",
      "\u001b[32m    504\u001b[39m     OldPdb.interaction(\u001b[38;5;28mself\u001b[39m, frame, tb_or_exc)\n",
      "\n",
      "\u001b[36mFile \u001b[39m\u001b[32m~/.local/share/uv/python/cpython-3.11.13-linux-x86_64-gnu/lib/python3.11/pdb.py:419\u001b[39m, in \u001b[36mPdb.interaction\u001b[39m\u001b[34m(self, frame, traceback)\u001b[39m\n",
      "\u001b[32m    417\u001b[39m \u001b[38;5;28;01mif\u001b[39;00m \u001b[38;5;129;01mnot\u001b[39;00m \u001b[38;5;28mself\u001b[39m.cmdqueue:\n",
      "\u001b[32m    418\u001b[39m     \u001b[38;5;28mself\u001b[39m.print_stack_entry(\u001b[38;5;28mself\u001b[39m.stack[\u001b[38;5;28mself\u001b[39m.curindex])\n",
      "\u001b[32m--> \u001b[39m\u001b[32m419\u001b[39m \u001b[38;5;28;43mself\u001b[39;49m\u001b[43m.\u001b[49m\u001b[43m_cmdloop\u001b[49m\u001b[43m(\u001b[49m\u001b[43m)\u001b[49m\n",
      "\u001b[32m    420\u001b[39m \u001b[38;5;28mself\u001b[39m.forget()\n",
      "\n",
      "\u001b[36mFile \u001b[39m\u001b[32m~/Documents/GitHub/openpiv-python-examples/.venv/lib/python3.11/site-packages/IPython/core/debugger.py:1233\u001b[39m, in \u001b[36mInterruptiblePdb._cmdloop\u001b[39m\u001b[34m(self)\u001b[39m\n",
      "\u001b[32m   1229\u001b[39m \u001b[38;5;28;01mtry\u001b[39;00m:\n",
      "\u001b[32m   1230\u001b[39m     \u001b[38;5;66;03m# keyboard interrupts allow for an easy way to cancel\u001b[39;00m\n",
      "\u001b[32m   1231\u001b[39m     \u001b[38;5;66;03m# the current command, so allow them during interactive input\u001b[39;00m\n",
      "\u001b[32m   1232\u001b[39m     \u001b[38;5;28mself\u001b[39m.allow_kbdint = \u001b[38;5;28;01mTrue\u001b[39;00m\n",
      "\u001b[32m-> \u001b[39m\u001b[32m1233\u001b[39m     \u001b[38;5;28;43mself\u001b[39;49m\u001b[43m.\u001b[49m\u001b[43mcmdloop\u001b[49m\u001b[43m(\u001b[49m\u001b[43m)\u001b[49m\n",
      "\u001b[32m   1234\u001b[39m     \u001b[38;5;28mself\u001b[39m.allow_kbdint = \u001b[38;5;28;01mFalse\u001b[39;00m\n",
      "\u001b[32m   1235\u001b[39m     \u001b[38;5;28;01mbreak\u001b[39;00m\n",
      "\n",
      "\u001b[36mFile \u001b[39m\u001b[32m~/Documents/GitHub/openpiv-python-examples/.venv/lib/python3.11/site-packages/IPython/core/debugger.py:1219\u001b[39m, in \u001b[36mInterruptiblePdb.cmdloop\u001b[39m\u001b[34m(self, intro)\u001b[39m\n",
      "\u001b[32m   1217\u001b[39m \u001b[38;5;250m\u001b[39m\u001b[33;03m\"\"\"Wrap cmdloop() such that KeyboardInterrupt stops the debugger.\"\"\"\u001b[39;00m\n",
      "\u001b[32m   1218\u001b[39m \u001b[38;5;28;01mtry\u001b[39;00m:\n",
      "\u001b[32m-> \u001b[39m\u001b[32m1219\u001b[39m     \u001b[38;5;28;01mreturn\u001b[39;00m \u001b[43mOldPdb\u001b[49m\u001b[43m.\u001b[49m\u001b[43mcmdloop\u001b[49m\u001b[43m(\u001b[49m\u001b[38;5;28;43mself\u001b[39;49m\u001b[43m,\u001b[49m\u001b[43m \u001b[49m\u001b[43mintro\u001b[49m\u001b[43m=\u001b[49m\u001b[43mintro\u001b[49m\u001b[43m)\u001b[49m\n",
      "\u001b[32m   1220\u001b[39m \u001b[38;5;28;01mexcept\u001b[39;00m \u001b[38;5;167;01mKeyboardInterrupt\u001b[39;00m:\n",
      "\u001b[32m   1221\u001b[39m     \u001b[38;5;28mself\u001b[39m.stop_here = \u001b[38;5;28;01mlambda\u001b[39;00m frame: \u001b[38;5;28;01mFalse\u001b[39;00m  \u001b[38;5;66;03m# type: ignore[method-assign]\u001b[39;00m\n",
      "\n",
      "\u001b[36mFile \u001b[39m\u001b[32m~/.local/share/uv/python/cpython-3.11.13-linux-x86_64-gnu/lib/python3.11/cmd.py:126\u001b[39m, in \u001b[36mCmd.cmdloop\u001b[39m\u001b[34m(self, intro)\u001b[39m\n",
      "\u001b[32m    124\u001b[39m \u001b[38;5;28;01mif\u001b[39;00m \u001b[38;5;28mself\u001b[39m.use_rawinput:\n",
      "\u001b[32m    125\u001b[39m     \u001b[38;5;28;01mtry\u001b[39;00m:\n",
      "\u001b[32m--> \u001b[39m\u001b[32m126\u001b[39m         line = \u001b[38;5;28;43minput\u001b[39;49m\u001b[43m(\u001b[49m\u001b[38;5;28;43mself\u001b[39;49m\u001b[43m.\u001b[49m\u001b[43mprompt\u001b[49m\u001b[43m)\u001b[49m\n",
      "\u001b[32m    127\u001b[39m     \u001b[38;5;28;01mexcept\u001b[39;00m \u001b[38;5;167;01mEOFError\u001b[39;00m:\n",
      "\u001b[32m    128\u001b[39m         line = \u001b[33m'\u001b[39m\u001b[33mEOF\u001b[39m\u001b[33m'\u001b[39m\n",
      "\n",
      "\u001b[36mFile \u001b[39m\u001b[32m~/Documents/GitHub/openpiv-python-examples/.venv/lib/python3.11/site-packages/ipykernel/kernelbase.py:1259\u001b[39m, in \u001b[36mKernel.raw_input\u001b[39m\u001b[34m(self, prompt)\u001b[39m\n",
      "\u001b[32m   1257\u001b[39m \u001b[38;5;28;01mif\u001b[39;00m \u001b[38;5;129;01mnot\u001b[39;00m \u001b[38;5;28mself\u001b[39m._allow_stdin:\n",
      "\u001b[32m   1258\u001b[39m     msg = \u001b[33m\"\u001b[39m\u001b[33mraw_input was called, but this frontend does not support input requests.\u001b[39m\u001b[33m\"\u001b[39m\n",
      "\u001b[32m-> \u001b[39m\u001b[32m1259\u001b[39m     \u001b[38;5;28;01mraise\u001b[39;00m StdinNotImplementedError(msg)\n",
      "\u001b[32m   1260\u001b[39m \u001b[38;5;28;01mreturn\u001b[39;00m \u001b[38;5;28mself\u001b[39m._input_request(\n",
      "\u001b[32m   1261\u001b[39m     \u001b[38;5;28mstr\u001b[39m(prompt),\n",
      "\u001b[32m   1262\u001b[39m     \u001b[38;5;28mself\u001b[39m._parent_ident[\u001b[33m\"\u001b[39m\u001b[33mshell\u001b[39m\u001b[33m\"\u001b[39m],\n",
      "\u001b[32m   1263\u001b[39m     \u001b[38;5;28mself\u001b[39m.get_parent(\u001b[33m\"\u001b[39m\u001b[33mshell\u001b[39m\u001b[33m\"\u001b[39m),\n",
      "\u001b[32m   1264\u001b[39m     password=\u001b[38;5;28;01mFalse\u001b[39;00m,\n",
      "\u001b[32m   1265\u001b[39m )\n",
      "\n",
      "\u001b[31mStdinNotImplementedError\u001b[39m: raw_input was called, but this frontend does not support input requests.\n",
      "\n"
     ]
    },
    {
     "name": "stdout",
     "output_type": "stream",
     "text": [
      "./notebooks/20230601_multigrid_PIV_clean.nbconvert.nbconvert.ipynb\n"
     ]
    },
    {
     "name": "stderr",
     "output_type": "stream",
     "text": [
      "[NbConvertApp] Converting notebook ./notebooks/20230601_multigrid_PIV_clean.nbconvert.nbconvert.ipynb to notebook\n",
      "[NbConvertApp] Writing 1558015 bytes to notebooks/20230601_multigrid_PIV_clean.nbconvert.nbconvert.nbconvert.ipynb\n"
     ]
    },
    {
     "name": "stdout",
     "output_type": "stream",
     "text": [
      "./notebooks/openpiv_gifs.ipynb\n"
     ]
    },
    {
     "name": "stderr",
     "output_type": "stream",
     "text": [
      "[NbConvertApp] Converting notebook ./notebooks/openpiv_gifs.ipynb to notebook\n",
      "[NbConvertApp] Writing 4149427 bytes to notebooks/openpiv_gifs.nbconvert.ipynb\n"
     ]
    },
    {
     "name": "stdout",
     "output_type": "stream",
     "text": [
      "./notebooks/testing_rotation_differences.nbconvert.nbconvert.ipynb\n"
     ]
    },
    {
     "name": "stderr",
     "output_type": "stream",
     "text": [
      "[NbConvertApp] Converting notebook ./notebooks/testing_rotation_differences.nbconvert.nbconvert.ipynb to notebook\n",
      "[NbConvertApp] Writing 162621 bytes to notebooks/testing_rotation_differences.nbconvert.nbconvert.nbconvert.ipynb\n"
     ]
    },
    {
     "name": "stdout",
     "output_type": "stream",
     "text": [
      "./notebooks/ensemble_correlation.ipynb\n"
     ]
    },
    {
     "name": "stderr",
     "output_type": "stream",
     "text": [
      "[NbConvertApp] Converting notebook ./notebooks/ensemble_correlation.ipynb to notebook\n",
      "[NbConvertApp] Writing 1388845 bytes to notebooks/ensemble_correlation.nbconvert.ipynb\n"
     ]
    },
    {
     "name": "stdout",
     "output_type": "stream",
     "text": [
      "./notebooks/compare_correlations_algorithms.nbconvert.ipynb\n"
     ]
    },
    {
     "name": "stderr",
     "output_type": "stream",
     "text": [
      "[NbConvertApp] Converting notebook ./notebooks/compare_correlations_algorithms.nbconvert.ipynb to notebook\n",
      "[NbConvertApp] Writing 729911 bytes to notebooks/compare_correlations_algorithms.nbconvert.nbconvert.ipynb\n"
     ]
    },
    {
     "name": "stdout",
     "output_type": "stream",
     "text": [
      "./notebooks/openpiv_bird_gifs.nbconvert.nbconvert.ipynb\n"
     ]
    },
    {
     "name": "stderr",
     "output_type": "stream",
     "text": [
      "[NbConvertApp] Converting notebook ./notebooks/openpiv_bird_gifs.nbconvert.nbconvert.ipynb to notebook\n",
      "[NbConvertApp] Writing 1815834 bytes to notebooks/openpiv_bird_gifs.nbconvert.nbconvert.nbconvert.ipynb\n"
     ]
    },
    {
     "name": "stdout",
     "output_type": "stream",
     "text": [
      "./notebooks/tutorial1.nbconvert.ipynb\n"
     ]
    },
    {
     "name": "stderr",
     "output_type": "stream",
     "text": [
      "[NbConvertApp] Converting notebook ./notebooks/tutorial1.nbconvert.ipynb to notebook\n",
      "[NbConvertApp] Writing 2259265 bytes to notebooks/tutorial1.nbconvert.nbconvert.ipynb\n"
     ]
    },
    {
     "name": "stdout",
     "output_type": "stream",
     "text": [
      "./notebooks/openpiv_gifs.nbconvert.ipynb\n"
     ]
    },
    {
     "name": "stderr",
     "output_type": "stream",
     "text": [
      "[NbConvertApp] Converting notebook ./notebooks/openpiv_gifs.nbconvert.ipynb to notebook\n",
      "[NbConvertApp] Writing 4149427 bytes to notebooks/openpiv_gifs.nbconvert.nbconvert.ipynb\n"
     ]
    },
    {
     "name": "stdout",
     "output_type": "stream",
     "text": [
      "./notebooks/window_deformation_comparison.nbconvert.ipynb\n"
     ]
    },
    {
     "name": "stderr",
     "output_type": "stream",
     "text": [
      "[NbConvertApp] Converting notebook ./notebooks/window_deformation_comparison.nbconvert.ipynb to notebook\n",
      "[NbConvertApp] Writing 41217 bytes to notebooks/window_deformation_comparison.nbconvert.nbconvert.ipynb\n"
     ]
    },
    {
     "name": "stdout",
     "output_type": "stream",
     "text": [
      "./notebooks/example_normalized_correlation_effect.nbconvert.ipynb\n"
     ]
    },
    {
     "name": "stderr",
     "output_type": "stream",
     "text": [
      "[NbConvertApp] Converting notebook ./notebooks/example_normalized_correlation_effect.nbconvert.ipynb to notebook\n",
      "[NbConvertApp] Writing 539836 bytes to notebooks/example_normalized_correlation_effect.nbconvert.nbconvert.ipynb\n"
     ]
    },
    {
     "name": "stdout",
     "output_type": "stream",
     "text": [
      "./notebooks/tutorial_multipass.nbconvert.nbconvert.ipynb\n"
     ]
    },
    {
     "name": "stderr",
     "output_type": "stream",
     "text": [
      "[NbConvertApp] Converting notebook ./notebooks/tutorial_multipass.nbconvert.nbconvert.ipynb to notebook\n",
      "[NbConvertApp] Writing 667128 bytes to notebooks/tutorial_multipass.nbconvert.nbconvert.nbconvert.ipynb\n"
     ]
    },
    {
     "name": "stdout",
     "output_type": "stream",
     "text": [
      "./notebooks/openpiv_snow.ipynb\n"
     ]
    },
    {
     "name": "stderr",
     "output_type": "stream",
     "text": [
      "[NbConvertApp] Converting notebook ./notebooks/openpiv_snow.ipynb to notebook\n",
      "Traceback (most recent call last):\n",
      "  File \"/home/user/Documents/GitHub/openpiv-python-examples/.venv/lib/python3.11/site-packages/jupyter_core/utils/__init__.py\", line 154, in wrapped\n",
      "    asyncio.get_running_loop()\n",
      "RuntimeError: no running event loop\n",
      "\n",
      "During handling of the above exception, another exception occurred:\n",
      "\n",
      "Traceback (most recent call last):\n",
      "  File \"/home/user/Documents/GitHub/openpiv-python-examples/.venv/bin/jupyter-nbconvert\", line 10, in <module>\n",
      "    sys.exit(main())\n",
      "             ^^^^^^\n",
      "  File \"/home/user/Documents/GitHub/openpiv-python-examples/.venv/lib/python3.11/site-packages/jupyter_core/application.py\", line 284, in launch_instance\n",
      "    super().launch_instance(argv=argv, **kwargs)\n",
      "  File \"/home/user/Documents/GitHub/openpiv-python-examples/.venv/lib/python3.11/site-packages/traitlets/config/application.py\", line 1075, in launch_instance\n",
      "    app.start()\n",
      "  File \"/home/user/Documents/GitHub/openpiv-python-examples/.venv/lib/python3.11/site-packages/nbconvert/nbconvertapp.py\", line 420, in start\n",
      "    self.convert_notebooks()\n",
      "  File \"/home/user/Documents/GitHub/openpiv-python-examples/.venv/lib/python3.11/site-packages/nbconvert/nbconvertapp.py\", line 597, in convert_notebooks\n",
      "    self.convert_single_notebook(notebook_filename)\n",
      "  File \"/home/user/Documents/GitHub/openpiv-python-examples/.venv/lib/python3.11/site-packages/nbconvert/nbconvertapp.py\", line 563, in convert_single_notebook\n",
      "    output, resources = self.export_single_notebook(\n",
      "                        ^^^^^^^^^^^^^^^^^^^^^^^^^^^^\n",
      "  File \"/home/user/Documents/GitHub/openpiv-python-examples/.venv/lib/python3.11/site-packages/nbconvert/nbconvertapp.py\", line 487, in export_single_notebook\n",
      "    output, resources = self.exporter.from_filename(\n",
      "                        ^^^^^^^^^^^^^^^^^^^^^^^^^^^^\n",
      "  File \"/home/user/Documents/GitHub/openpiv-python-examples/.venv/lib/python3.11/site-packages/nbconvert/exporters/exporter.py\", line 201, in from_filename\n",
      "    return self.from_file(f, resources=resources, **kw)\n",
      "           ^^^^^^^^^^^^^^^^^^^^^^^^^^^^^^^^^^^^^^^^^^^^\n",
      "  File \"/home/user/Documents/GitHub/openpiv-python-examples/.venv/lib/python3.11/site-packages/nbconvert/exporters/exporter.py\", line 220, in from_file\n",
      "    return self.from_notebook_node(\n",
      "           ^^^^^^^^^^^^^^^^^^^^^^^^\n",
      "  File \"/home/user/Documents/GitHub/openpiv-python-examples/.venv/lib/python3.11/site-packages/nbconvert/exporters/notebook.py\", line 36, in from_notebook_node\n",
      "    nb_copy, resources = super().from_notebook_node(nb, resources, **kw)\n",
      "                         ^^^^^^^^^^^^^^^^^^^^^^^^^^^^^^^^^^^^^^^^^^^^^^^\n",
      "  File \"/home/user/Documents/GitHub/openpiv-python-examples/.venv/lib/python3.11/site-packages/nbconvert/exporters/exporter.py\", line 154, in from_notebook_node\n",
      "    nb_copy, resources = self._preprocess(nb_copy, resources)\n",
      "                         ^^^^^^^^^^^^^^^^^^^^^^^^^^^^^^^^^^^^\n",
      "  File \"/home/user/Documents/GitHub/openpiv-python-examples/.venv/lib/python3.11/site-packages/nbconvert/exporters/exporter.py\", line 353, in _preprocess\n",
      "    nbc, resc = preprocessor(nbc, resc)\n",
      "                ^^^^^^^^^^^^^^^^^^^^^^^\n",
      "  File \"/home/user/Documents/GitHub/openpiv-python-examples/.venv/lib/python3.11/site-packages/nbconvert/preprocessors/base.py\", line 48, in __call__\n",
      "    return self.preprocess(nb, resources)\n",
      "           ^^^^^^^^^^^^^^^^^^^^^^^^^^^^^^\n",
      "  File \"/home/user/Documents/GitHub/openpiv-python-examples/.venv/lib/python3.11/site-packages/nbconvert/preprocessors/execute.py\", line 103, in preprocess\n",
      "    self.preprocess_cell(cell, resources, index)\n",
      "  File \"/home/user/Documents/GitHub/openpiv-python-examples/.venv/lib/python3.11/site-packages/nbconvert/preprocessors/execute.py\", line 124, in preprocess_cell\n",
      "    cell = self.execute_cell(cell, index, store_history=True)\n",
      "           ^^^^^^^^^^^^^^^^^^^^^^^^^^^^^^^^^^^^^^^^^^^^^^^^^^\n",
      "  File \"/home/user/Documents/GitHub/openpiv-python-examples/.venv/lib/python3.11/site-packages/jupyter_core/utils/__init__.py\", line 158, in wrapped\n",
      "    return loop.run_until_complete(inner)\n",
      "           ^^^^^^^^^^^^^^^^^^^^^^^^^^^^^^\n",
      "  File \"/home/user/.local/share/uv/python/cpython-3.11.13-linux-x86_64-gnu/lib/python3.11/asyncio/base_events.py\", line 654, in run_until_complete\n",
      "    return future.result()\n",
      "           ^^^^^^^^^^^^^^^\n",
      "  File \"/home/user/Documents/GitHub/openpiv-python-examples/.venv/lib/python3.11/site-packages/nbclient/client.py\", line 1062, in async_execute_cell\n",
      "    await self._check_raise_for_error(cell, cell_index, exec_reply)\n",
      "  File \"/home/user/Documents/GitHub/openpiv-python-examples/.venv/lib/python3.11/site-packages/nbclient/client.py\", line 918, in _check_raise_for_error\n",
      "    raise CellExecutionError.from_cell_and_msg(cell, exec_reply_content)\n",
      "nbclient.exceptions.CellExecutionError: An error occurred while executing the following cell:\n",
      "------------------\n",
      "video.streams.filter(file_extension = \"mp4\").all()\n",
      "------------------\n",
      "\n",
      "\n",
      "\u001b[31m---------------------------------------------------------------------------\u001b[39m\n",
      "\u001b[31mHTTPError\u001b[39m                                 Traceback (most recent call last)\n",
      "\u001b[36mCell\u001b[39m\u001b[36m \u001b[39m\u001b[32mIn[5]\u001b[39m\u001b[32m, line 1\u001b[39m\n",
      "\u001b[32m----> \u001b[39m\u001b[32m1\u001b[39m \u001b[43mvideo\u001b[49m\u001b[43m.\u001b[49m\u001b[43mstreams\u001b[49m.filter(file_extension = \u001b[33m\"\u001b[39m\u001b[33mmp4\u001b[39m\u001b[33m\"\u001b[39m).all()\n",
      "\n",
      "\u001b[36mFile \u001b[39m\u001b[32m~/Documents/GitHub/openpiv-python-examples/.venv/lib/python3.11/site-packages/pytube/__main__.py:296\u001b[39m, in \u001b[36mYouTube.streams\u001b[39m\u001b[34m(self)\u001b[39m\n",
      "\u001b[32m    291\u001b[39m \u001b[38;5;250m\u001b[39m\u001b[33;03m\"\"\"Interface to query both adaptive (DASH) and progressive streams.\u001b[39;00m\n",
      "\u001b[32m    292\u001b[39m \n",
      "\u001b[32m    293\u001b[39m \u001b[33;03m:rtype: :class:`StreamQuery <StreamQuery>`.\u001b[39;00m\n",
      "\u001b[32m    294\u001b[39m \u001b[33;03m\"\"\"\u001b[39;00m\n",
      "\u001b[32m    295\u001b[39m \u001b[38;5;28mself\u001b[39m.check_availability()\n",
      "\u001b[32m--> \u001b[39m\u001b[32m296\u001b[39m \u001b[38;5;28;01mreturn\u001b[39;00m StreamQuery(\u001b[38;5;28;43mself\u001b[39;49m\u001b[43m.\u001b[49m\u001b[43mfmt_streams\u001b[49m)\n",
      "\n",
      "\u001b[36mFile \u001b[39m\u001b[32m~/Documents/GitHub/openpiv-python-examples/.venv/lib/python3.11/site-packages/pytube/__main__.py:176\u001b[39m, in \u001b[36mYouTube.fmt_streams\u001b[39m\u001b[34m(self)\u001b[39m\n",
      "\u001b[32m    172\u001b[39m     \u001b[38;5;28;01mreturn\u001b[39;00m \u001b[38;5;28mself\u001b[39m._fmt_streams\n",
      "\u001b[32m    174\u001b[39m \u001b[38;5;28mself\u001b[39m._fmt_streams = []\n",
      "\u001b[32m--> \u001b[39m\u001b[32m176\u001b[39m stream_manifest = extract.apply_descrambler(\u001b[38;5;28;43mself\u001b[39;49m\u001b[43m.\u001b[49m\u001b[43mstreaming_data\u001b[49m)\n",
      "\u001b[32m    178\u001b[39m \u001b[38;5;66;03m# If the cached js doesn't work, try fetching a new js file\u001b[39;00m\n",
      "\u001b[32m    179\u001b[39m \u001b[38;5;66;03m# https://github.com/pytube/pytube/issues/1054\u001b[39;00m\n",
      "\u001b[32m    180\u001b[39m \u001b[38;5;28;01mtry\u001b[39;00m:\n",
      "\n",
      "\u001b[36mFile \u001b[39m\u001b[32m~/Documents/GitHub/openpiv-python-examples/.venv/lib/python3.11/site-packages/pytube/__main__.py:157\u001b[39m, in \u001b[36mYouTube.streaming_data\u001b[39m\u001b[34m(self)\u001b[39m\n",
      "\u001b[32m    154\u001b[39m \u001b[38;5;129m@property\u001b[39m\n",
      "\u001b[32m    155\u001b[39m \u001b[38;5;28;01mdef\u001b[39;00m\u001b[38;5;250m \u001b[39m\u001b[34mstreaming_data\u001b[39m(\u001b[38;5;28mself\u001b[39m):\n",
      "\u001b[32m    156\u001b[39m \u001b[38;5;250m    \u001b[39m\u001b[33;03m\"\"\"Return streamingData from video info.\"\"\"\u001b[39;00m\n",
      "\u001b[32m--> \u001b[39m\u001b[32m157\u001b[39m     \u001b[38;5;28;01mif\u001b[39;00m \u001b[33m'\u001b[39m\u001b[33mstreamingData\u001b[39m\u001b[33m'\u001b[39m \u001b[38;5;129;01min\u001b[39;00m \u001b[38;5;28;43mself\u001b[39;49m\u001b[43m.\u001b[49m\u001b[43mvid_info\u001b[49m:\n",
      "\u001b[32m    158\u001b[39m         \u001b[38;5;28;01mreturn\u001b[39;00m \u001b[38;5;28mself\u001b[39m.vid_info[\u001b[33m'\u001b[39m\u001b[33mstreamingData\u001b[39m\u001b[33m'\u001b[39m]\n",
      "\u001b[32m    159\u001b[39m     \u001b[38;5;28;01melse\u001b[39;00m:\n",
      "\n",
      "\u001b[36mFile \u001b[39m\u001b[32m~/Documents/GitHub/openpiv-python-examples/.venv/lib/python3.11/site-packages/pytube/__main__.py:246\u001b[39m, in \u001b[36mYouTube.vid_info\u001b[39m\u001b[34m(self)\u001b[39m\n",
      "\u001b[32m    242\u001b[39m     \u001b[38;5;28;01mreturn\u001b[39;00m \u001b[38;5;28mself\u001b[39m._vid_info\n",
      "\u001b[32m    244\u001b[39m innertube = InnerTube(use_oauth=\u001b[38;5;28mself\u001b[39m.use_oauth, allow_cache=\u001b[38;5;28mself\u001b[39m.allow_oauth_cache)\n",
      "\u001b[32m--> \u001b[39m\u001b[32m246\u001b[39m innertube_response = \u001b[43minnertube\u001b[49m\u001b[43m.\u001b[49m\u001b[43mplayer\u001b[49m\u001b[43m(\u001b[49m\u001b[38;5;28;43mself\u001b[39;49m\u001b[43m.\u001b[49m\u001b[43mvideo_id\u001b[49m\u001b[43m)\u001b[49m\n",
      "\u001b[32m    247\u001b[39m \u001b[38;5;28mself\u001b[39m._vid_info = innertube_response\n",
      "\u001b[32m    248\u001b[39m \u001b[38;5;28;01mreturn\u001b[39;00m \u001b[38;5;28mself\u001b[39m._vid_info\n",
      "\n",
      "\u001b[36mFile \u001b[39m\u001b[32m~/Documents/GitHub/openpiv-python-examples/.venv/lib/python3.11/site-packages/pytube/innertube.py:448\u001b[39m, in \u001b[36mInnerTube.player\u001b[39m\u001b[34m(self, video_id)\u001b[39m\n",
      "\u001b[32m    444\u001b[39m query = {\n",
      "\u001b[32m    445\u001b[39m     \u001b[33m'\u001b[39m\u001b[33mvideoId\u001b[39m\u001b[33m'\u001b[39m: video_id,\n",
      "\u001b[32m    446\u001b[39m }\n",
      "\u001b[32m    447\u001b[39m query.update(\u001b[38;5;28mself\u001b[39m.base_params)\n",
      "\u001b[32m--> \u001b[39m\u001b[32m448\u001b[39m \u001b[38;5;28;01mreturn\u001b[39;00m \u001b[38;5;28;43mself\u001b[39;49m\u001b[43m.\u001b[49m\u001b[43m_call_api\u001b[49m\u001b[43m(\u001b[49m\u001b[43mendpoint\u001b[49m\u001b[43m,\u001b[49m\u001b[43m \u001b[49m\u001b[43mquery\u001b[49m\u001b[43m,\u001b[49m\u001b[43m \u001b[49m\u001b[38;5;28;43mself\u001b[39;49m\u001b[43m.\u001b[49m\u001b[43mbase_data\u001b[49m\u001b[43m)\u001b[49m\n",
      "\n",
      "\u001b[36mFile \u001b[39m\u001b[32m~/Documents/GitHub/openpiv-python-examples/.venv/lib/python3.11/site-packages/pytube/innertube.py:390\u001b[39m, in \u001b[36mInnerTube._call_api\u001b[39m\u001b[34m(self, endpoint, query, data)\u001b[39m\n",
      "\u001b[32m    386\u001b[39m         headers[\u001b[33m'\u001b[39m\u001b[33mAuthorization\u001b[39m\u001b[33m'\u001b[39m] = \u001b[33mf\u001b[39m\u001b[33m'\u001b[39m\u001b[33mBearer \u001b[39m\u001b[38;5;132;01m{\u001b[39;00m\u001b[38;5;28mself\u001b[39m.access_token\u001b[38;5;132;01m}\u001b[39;00m\u001b[33m'\u001b[39m\n",
      "\u001b[32m    388\u001b[39m headers.update(\u001b[38;5;28mself\u001b[39m.header)\n",
      "\u001b[32m--> \u001b[39m\u001b[32m390\u001b[39m response = \u001b[43mrequest\u001b[49m\u001b[43m.\u001b[49m\u001b[43m_execute_request\u001b[49m\u001b[43m(\u001b[49m\n",
      "\u001b[32m    391\u001b[39m \u001b[43m    \u001b[49m\u001b[43mendpoint_url\u001b[49m\u001b[43m,\u001b[49m\n",
      "\u001b[32m    392\u001b[39m \u001b[43m    \u001b[49m\u001b[33;43m'\u001b[39;49m\u001b[33;43mPOST\u001b[39;49m\u001b[33;43m'\u001b[39;49m\u001b[43m,\u001b[49m\n",
      "\u001b[32m    393\u001b[39m \u001b[43m    \u001b[49m\u001b[43mheaders\u001b[49m\u001b[43m=\u001b[49m\u001b[43mheaders\u001b[49m\u001b[43m,\u001b[49m\n",
      "\u001b[32m    394\u001b[39m \u001b[43m    \u001b[49m\u001b[43mdata\u001b[49m\u001b[43m=\u001b[49m\u001b[43mdata\u001b[49m\n",
      "\u001b[32m    395\u001b[39m \u001b[43m\u001b[49m\u001b[43m)\u001b[49m\n",
      "\u001b[32m    396\u001b[39m \u001b[38;5;28;01mreturn\u001b[39;00m json.loads(response.read())\n",
      "\n",
      "\u001b[36mFile \u001b[39m\u001b[32m~/Documents/GitHub/openpiv-python-examples/.venv/lib/python3.11/site-packages/pytube/request.py:37\u001b[39m, in \u001b[36m_execute_request\u001b[39m\u001b[34m(url, method, headers, data, timeout)\u001b[39m\n",
      "\u001b[32m     35\u001b[39m \u001b[38;5;28;01melse\u001b[39;00m:\n",
      "\u001b[32m     36\u001b[39m     \u001b[38;5;28;01mraise\u001b[39;00m \u001b[38;5;167;01mValueError\u001b[39;00m(\u001b[33m\"\u001b[39m\u001b[33mInvalid URL\u001b[39m\u001b[33m\"\u001b[39m)\n",
      "\u001b[32m---> \u001b[39m\u001b[32m37\u001b[39m \u001b[38;5;28;01mreturn\u001b[39;00m \u001b[43murlopen\u001b[49m\u001b[43m(\u001b[49m\u001b[43mrequest\u001b[49m\u001b[43m,\u001b[49m\u001b[43m \u001b[49m\u001b[43mtimeout\u001b[49m\u001b[43m=\u001b[49m\u001b[43mtimeout\u001b[49m\u001b[43m)\u001b[49m\n",
      "\n",
      "\u001b[36mFile \u001b[39m\u001b[32m~/.local/share/uv/python/cpython-3.11.13-linux-x86_64-gnu/lib/python3.11/urllib/request.py:216\u001b[39m, in \u001b[36murlopen\u001b[39m\u001b[34m(url, data, timeout, cafile, capath, cadefault, context)\u001b[39m\n",
      "\u001b[32m    214\u001b[39m \u001b[38;5;28;01melse\u001b[39;00m:\n",
      "\u001b[32m    215\u001b[39m     opener = _opener\n",
      "\u001b[32m--> \u001b[39m\u001b[32m216\u001b[39m \u001b[38;5;28;01mreturn\u001b[39;00m \u001b[43mopener\u001b[49m\u001b[43m.\u001b[49m\u001b[43mopen\u001b[49m\u001b[43m(\u001b[49m\u001b[43murl\u001b[49m\u001b[43m,\u001b[49m\u001b[43m \u001b[49m\u001b[43mdata\u001b[49m\u001b[43m,\u001b[49m\u001b[43m \u001b[49m\u001b[43mtimeout\u001b[49m\u001b[43m)\u001b[49m\n",
      "\n",
      "\u001b[36mFile \u001b[39m\u001b[32m~/.local/share/uv/python/cpython-3.11.13-linux-x86_64-gnu/lib/python3.11/urllib/request.py:525\u001b[39m, in \u001b[36mOpenerDirector.open\u001b[39m\u001b[34m(self, fullurl, data, timeout)\u001b[39m\n",
      "\u001b[32m    523\u001b[39m \u001b[38;5;28;01mfor\u001b[39;00m processor \u001b[38;5;129;01min\u001b[39;00m \u001b[38;5;28mself\u001b[39m.process_response.get(protocol, []):\n",
      "\u001b[32m    524\u001b[39m     meth = \u001b[38;5;28mgetattr\u001b[39m(processor, meth_name)\n",
      "\u001b[32m--> \u001b[39m\u001b[32m525\u001b[39m     response = \u001b[43mmeth\u001b[49m\u001b[43m(\u001b[49m\u001b[43mreq\u001b[49m\u001b[43m,\u001b[49m\u001b[43m \u001b[49m\u001b[43mresponse\u001b[49m\u001b[43m)\u001b[49m\n",
      "\u001b[32m    527\u001b[39m \u001b[38;5;28;01mreturn\u001b[39;00m response\n",
      "\n",
      "\u001b[36mFile \u001b[39m\u001b[32m~/.local/share/uv/python/cpython-3.11.13-linux-x86_64-gnu/lib/python3.11/urllib/request.py:634\u001b[39m, in \u001b[36mHTTPErrorProcessor.http_response\u001b[39m\u001b[34m(self, request, response)\u001b[39m\n",
      "\u001b[32m    631\u001b[39m \u001b[38;5;66;03m# According to RFC 2616, \"2xx\" code indicates that the client's\u001b[39;00m\n",
      "\u001b[32m    632\u001b[39m \u001b[38;5;66;03m# request was successfully received, understood, and accepted.\u001b[39;00m\n",
      "\u001b[32m    633\u001b[39m \u001b[38;5;28;01mif\u001b[39;00m \u001b[38;5;129;01mnot\u001b[39;00m (\u001b[32m200\u001b[39m <= code < \u001b[32m300\u001b[39m):\n",
      "\u001b[32m--> \u001b[39m\u001b[32m634\u001b[39m     response = \u001b[38;5;28;43mself\u001b[39;49m\u001b[43m.\u001b[49m\u001b[43mparent\u001b[49m\u001b[43m.\u001b[49m\u001b[43merror\u001b[49m\u001b[43m(\u001b[49m\n",
      "\u001b[32m    635\u001b[39m \u001b[43m        \u001b[49m\u001b[33;43m'\u001b[39;49m\u001b[33;43mhttp\u001b[39;49m\u001b[33;43m'\u001b[39;49m\u001b[43m,\u001b[49m\u001b[43m \u001b[49m\u001b[43mrequest\u001b[49m\u001b[43m,\u001b[49m\u001b[43m \u001b[49m\u001b[43mresponse\u001b[49m\u001b[43m,\u001b[49m\u001b[43m \u001b[49m\u001b[43mcode\u001b[49m\u001b[43m,\u001b[49m\u001b[43m \u001b[49m\u001b[43mmsg\u001b[49m\u001b[43m,\u001b[49m\u001b[43m \u001b[49m\u001b[43mhdrs\u001b[49m\u001b[43m)\u001b[49m\n",
      "\u001b[32m    637\u001b[39m \u001b[38;5;28;01mreturn\u001b[39;00m response\n",
      "\n",
      "\u001b[36mFile \u001b[39m\u001b[32m~/.local/share/uv/python/cpython-3.11.13-linux-x86_64-gnu/lib/python3.11/urllib/request.py:563\u001b[39m, in \u001b[36mOpenerDirector.error\u001b[39m\u001b[34m(self, proto, *args)\u001b[39m\n",
      "\u001b[32m    561\u001b[39m \u001b[38;5;28;01mif\u001b[39;00m http_err:\n",
      "\u001b[32m    562\u001b[39m     args = (\u001b[38;5;28mdict\u001b[39m, \u001b[33m'\u001b[39m\u001b[33mdefault\u001b[39m\u001b[33m'\u001b[39m, \u001b[33m'\u001b[39m\u001b[33mhttp_error_default\u001b[39m\u001b[33m'\u001b[39m) + orig_args\n",
      "\u001b[32m--> \u001b[39m\u001b[32m563\u001b[39m     \u001b[38;5;28;01mreturn\u001b[39;00m \u001b[38;5;28;43mself\u001b[39;49m\u001b[43m.\u001b[49m\u001b[43m_call_chain\u001b[49m\u001b[43m(\u001b[49m\u001b[43m*\u001b[49m\u001b[43margs\u001b[49m\u001b[43m)\u001b[49m\n",
      "\n",
      "\u001b[36mFile \u001b[39m\u001b[32m~/.local/share/uv/python/cpython-3.11.13-linux-x86_64-gnu/lib/python3.11/urllib/request.py:496\u001b[39m, in \u001b[36mOpenerDirector._call_chain\u001b[39m\u001b[34m(self, chain, kind, meth_name, *args)\u001b[39m\n",
      "\u001b[32m    494\u001b[39m \u001b[38;5;28;01mfor\u001b[39;00m handler \u001b[38;5;129;01min\u001b[39;00m handlers:\n",
      "\u001b[32m    495\u001b[39m     func = \u001b[38;5;28mgetattr\u001b[39m(handler, meth_name)\n",
      "\u001b[32m--> \u001b[39m\u001b[32m496\u001b[39m     result = \u001b[43mfunc\u001b[49m\u001b[43m(\u001b[49m\u001b[43m*\u001b[49m\u001b[43margs\u001b[49m\u001b[43m)\u001b[49m\n",
      "\u001b[32m    497\u001b[39m     \u001b[38;5;28;01mif\u001b[39;00m result \u001b[38;5;129;01mis\u001b[39;00m \u001b[38;5;129;01mnot\u001b[39;00m \u001b[38;5;28;01mNone\u001b[39;00m:\n",
      "\u001b[32m    498\u001b[39m         \u001b[38;5;28;01mreturn\u001b[39;00m result\n",
      "\n",
      "\u001b[36mFile \u001b[39m\u001b[32m~/.local/share/uv/python/cpython-3.11.13-linux-x86_64-gnu/lib/python3.11/urllib/request.py:643\u001b[39m, in \u001b[36mHTTPDefaultErrorHandler.http_error_default\u001b[39m\u001b[34m(self, req, fp, code, msg, hdrs)\u001b[39m\n",
      "\u001b[32m    642\u001b[39m \u001b[38;5;28;01mdef\u001b[39;00m\u001b[38;5;250m \u001b[39m\u001b[34mhttp_error_default\u001b[39m(\u001b[38;5;28mself\u001b[39m, req, fp, code, msg, hdrs):\n",
      "\u001b[32m--> \u001b[39m\u001b[32m643\u001b[39m     \u001b[38;5;28;01mraise\u001b[39;00m HTTPError(req.full_url, code, msg, hdrs, fp)\n",
      "\n",
      "\u001b[31mHTTPError\u001b[39m: HTTP Error 400: Bad Request\n",
      "\n"
     ]
    },
    {
     "name": "stdout",
     "output_type": "stream",
     "text": [
      "./notebooks/openpiv_bridgepile_wake.ipynb\n"
     ]
    },
    {
     "name": "stderr",
     "output_type": "stream",
     "text": [
      "[NbConvertApp] Converting notebook ./notebooks/openpiv_bridgepile_wake.ipynb to notebook\n",
      "[NbConvertApp] Writing 2969384 bytes to notebooks/openpiv_bridgepile_wake.nbconvert.ipynb\n"
     ]
    },
    {
     "name": "stdout",
     "output_type": "stream",
     "text": [
      "./notebooks/case_B_windef_small_window.nbconvert.ipynb\n"
     ]
    },
    {
     "name": "stderr",
     "output_type": "stream",
     "text": [
      "[NbConvertApp] Converting notebook ./notebooks/case_B_windef_small_window.nbconvert.ipynb to notebook\n",
      "[NbConvertApp] Writing 4320641 bytes to notebooks/case_B_windef_small_window.nbconvert.nbconvert.ipynb\n"
     ]
    }
   ],
   "source": [
    "import subprocess\n",
    "from glob import glob\n",
    "\n",
    "for nb in glob('./notebooks/*.ipynb'):\n",
    "    print(nb)\n",
    "    # subprocess.run(['papermill',nb,nb])\n",
    "    subprocess.run(['jupyter','nbconvert','--to','notebook','--execute',nb])"
   ]
  },
  {
   "cell_type": "code",
   "execution_count": null,
   "metadata": {},
   "outputs": [],
   "source": []
  },
  {
   "cell_type": "code",
   "execution_count": null,
   "metadata": {},
   "outputs": [],
   "source": []
  }
 ],
 "metadata": {
  "kernelspec": {
   "display_name": "openpiv-python-examples",
   "language": "python",
   "name": "python3"
  },
  "language_info": {
   "codemirror_mode": {
    "name": "ipython",
    "version": 3
   },
   "file_extension": ".py",
   "mimetype": "text/x-python",
   "name": "python",
   "nbconvert_exporter": "python",
   "pygments_lexer": "ipython3",
   "version": "3.11.13"
  }
 },
 "nbformat": 4,
 "nbformat_minor": 4
}
